{
 "cells": [
  {
   "cell_type": "markdown",
   "metadata": {},
   "source": [
    "## New Dataset: Predicting 'EverGreenness' of Web Content\n",
    "\n",
    "_Evergreen_ sites are always relevant. As opposed to breaking news or current news, evergreen websites maintain traffic no matter the time or season.\n",
    "\n",
    "#### Data Dictionary\n",
    "\n",
    "We will be using the [Kaggle StumbleUpon Evergreen Classification Challenge.](https://www.kaggle.com/c/stumbleupon)\n",
    "\n",
    "FieldName|Type|Description\n",
    "---------|----|-----------\n",
    "url|string|Url of the webpage to be classified\n",
    "title|string|Title of the article\n",
    "body|string|Body text of article\n",
    "urlid|integer| StumbleUpon's unique identifier for each url\n",
    "boilerplate|json|Boilerplate text\n",
    "alchemy_category|string|Alchemy category (per the publicly available Alchemy API found at www.alchemyapi.com)\n",
    "alchemy_category_score|double|Alchemy category score (per the publicly available Alchemy API found at www.alchemyapi.com)\n",
    "avglinksize| double|Average number of words in each link\n",
    "commonlinkratio_1|double|# of links sharing at least 1 word with 1 other links / # of links\n",
    "commonlinkratio_2|double|# of links sharing at least 1 word with 2 other links / # of links\n",
    "commonlinkratio_3|double|# of links sharing at least 1 word with 3 other links / # of links\n",
    "commonlinkratio_4|double|# of links sharing at least 1 word with 4 other links / # of links\n",
    "compression_ratio|double|Compression achieved on this page via gzip (measure of redundancy)\n",
    "embed_ratio|double|Count of number of <embed> usage\n",
    "frameBased|integer (0 or 1)|A page is frame-based (1) if it has no body markup but have a frameset markup\n",
    "frameTagRatio|double|Ratio of iframe markups over total number of markups\n",
    "hasDomainLink|integer (0 or 1)|True (1) if it contains an <a> with an url with domain\n",
    "html_ratio|double|Ratio of tags vs text in the page\n",
    "image_ratio|double|Ratio of <img> tags vs text in the page\n",
    "is_news|integer (0 or 1) | True (1) if StumbleUpon's news classifier determines that this webpage is news\n",
    "lengthyLinkDomain| integer (0 or 1)|True (1) if at least 3 <a> 's text contains more than 30 alphanumeric characters\n",
    "linkwordscore|double|Percentage of words on the page that are in hyperlink's text\n",
    "news_front_page| integer (0 or 1)|True (1) if StumbleUpon's news classifier determines that this webpage is front-page news\n",
    "non_markup_alphanum_characters|integer| Page's text's number of alphanumeric characters\n",
    "numberOfLinks|integer Number of <a>|markups\n",
    "numwords_in_url| double|Number of words in url\n",
    "parametrizedLinkRatio|double|A link is parametrized if it's url contains parameters or has an attached onClick event\n",
    "spelling_errors_ratio|double|Ratio of words not found in wiki (considered to be a spelling mistake)\n",
    "label|integer (0 or 1)|User-determined label. Either evergreen (1) or non-evergreen (0); available for train.tsv only"
   ]
  },
  {
   "cell_type": "markdown",
   "metadata": {},
   "source": [
    "We will revisit the data science workflow in order to explore the dataset and determine important characteristics for \"evergreen\" websites.\n",
    "\n",
    "1. Prior to looking at the available data, brainstorm 3 - 5 characteristics that would be useful for predicting evergreen websites.\n",
    "2. After looking at the dataset, can you model or quantify any of the characteristics you wanted?\n",
    "  - For instance, if you believe high-image content websites are likely to be evergreen, then how would you build a feature that represents high image content?\n",
    "  - Or if you believe weather content ISN'T likely to be evergreen, then how would you build a feature to reflect that?            \n",
    "3. Does being a news site affect \"evergreen-ness\"? Compute or plot the percent of evergreen news sites.\n",
    "4. Does category in general affect evergreen-ness? Plot the rate of evergreen sites for all Alchemy categories.\n",
    "5. How many articles are there per category?\n",
    "6. Create a feature for the title containing \"recipe\". Is the % of evergreen websites higher or lower on pages that have \"recipe\" in the the title?"
   ]
  },
  {
   "cell_type": "markdown",
   "metadata": {},
   "source": [
    "### What are 3 - 5 characteristics that you think might predict 'evergreen-ness'?\n",
    "\n",
    "   1. Write\n",
    "   2. Your\n",
    "   3. Ideas\n",
    "   4. Here"
   ]
  },
  {
   "cell_type": "code",
   "execution_count": 75,
   "metadata": {
    "collapsed": false
   },
   "outputs": [
    {
     "data": {
      "text/plain": [
       "url                               http://www.bloomberg.com/news/2010-12-23/ibm-p...\n",
       "urlid                                                                          4042\n",
       "boilerplate                       {\"title\":\"IBM Sees Holographic Calls Air Breat...\n",
       "alchemy_category                                                           business\n",
       "alchemy_category_score                                                     0.789131\n",
       "avglinksize                                                                 2.05556\n",
       "commonlinkratio_1                                                          0.676471\n",
       "commonlinkratio_2                                                          0.205882\n",
       "commonlinkratio_3                                                         0.0470588\n",
       "commonlinkratio_4                                                         0.0235294\n",
       "compression_ratio                                                          0.443783\n",
       "embed_ratio                                                                       0\n",
       "framebased                                                                        0\n",
       "frameTagRatio                                                             0.0907738\n",
       "hasDomainLink                                                                     0\n",
       "html_ratio                                                                 0.245831\n",
       "image_ratio                                                              0.00388349\n",
       "is_news                                                                           1\n",
       "lengthyLinkDomain                                                                 1\n",
       "linkwordscore                                                                    24\n",
       "news_front_page                                                                   0\n",
       "non_markup_alphanum_characters                                                 5424\n",
       "numberOfLinks                                                                   170\n",
       "numwords_in_url                                                                   8\n",
       "parametrizedLinkRatio                                                      0.152941\n",
       "spelling_errors_ratio                                                     0.0791296\n",
       "label                                                                             0\n",
       "Name: 0, dtype: object"
      ]
     },
     "execution_count": 75,
     "metadata": {},
     "output_type": "execute_result"
    }
   ],
   "source": [
    "import numpy as np\n",
    "import pandas as pd\n",
    "import json\n",
    "from sklearn.datasets import load_iris\n",
    "from sklearn import tree\n",
    "from sklearn.tree import DecisionTreeClassifier\n",
    "from sklearn.linear_model import LogisticRegression\n",
    "from sklearn.neighbors import KNeighborsClassifier\n",
    "from sklearn.model_selection import train_test_split, cross_val_score\n",
    "from sklearn.metrics import roc_auc_score\n",
    "import pydotplus \n",
    "import seaborn as sns\n",
    "import matplotlib.pyplot as plt\n",
    "sns.set(style=\"whitegrid\", font_scale=1.5)\n",
    "%matplotlib inline\n",
    "\n",
    "# Load data\n",
    "df = pd.read_csv(\"../../../datasets/stumbleupon.tsv\", sep='\\t')\n",
    "df.iloc[0]"
   ]
  },
  {
   "cell_type": "code",
   "execution_count": 20,
   "metadata": {
    "collapsed": false
   },
   "outputs": [
    {
     "data": {
      "text/plain": [
       "(array([ 3599.,     0.,     0.,     0.,     0.,     0.,     0.,     0.,\n",
       "            0.,  3796.]),\n",
       " array([ 0. ,  0.1,  0.2,  0.3,  0.4,  0.5,  0.6,  0.7,  0.8,  0.9,  1. ]),\n",
       " <a list of 10 Patch objects>)"
      ]
     },
     "execution_count": 20,
     "metadata": {},
     "output_type": "execute_result"
    },
    {
     "data": {
      "image/png": "[encoded data removed]",
      "text/plain": [
       "<matplotlib.figure.Figure at 0x113f8dbd0>"
      ]
     },
     "metadata": {},
     "output_type": "display_data"
    }
   ],
   "source": [
    "# What's the distribution of evergreen vs. non-evergreen?\n",
    "\n",
    "plt.hist(df.label)"
   ]
  },
  {
   "cell_type": "markdown",
   "metadata": {},
   "source": [
    "### Does being a news site affect 'evergreen-ness'? \n"
   ]
  },
  {
   "cell_type": "code",
   "execution_count": 21,
   "metadata": {
    "collapsed": false
   },
   "outputs": [
    {
     "data": {
      "text/plain": [
       "is_news\n",
       "1    0.516916\n",
       "?    0.507562\n",
       "Name: label, dtype: float64"
      ]
     },
     "execution_count": 21,
     "metadata": {},
     "output_type": "execute_result"
    }
   ],
   "source": [
    "df.groupby('is_news').label.mean()"
   ]
  },
  {
   "cell_type": "code",
   "execution_count": 22,
   "metadata": {
    "collapsed": false
   },
   "outputs": [
    {
     "data": {
      "text/plain": [
       "1    4552\n",
       "?    2843\n",
       "Name: is_news, dtype: int64"
      ]
     },
     "execution_count": 22,
     "metadata": {},
     "output_type": "execute_result"
    }
   ],
   "source": [
    "df.is_news.value_counts()"
   ]
  },
  {
   "cell_type": "markdown",
   "metadata": {},
   "source": [
    "### Does category have an effect on evergreenness?\n",
    "\n",
    "* Let's plot the rate of evergreenness for each category"
   ]
  },
  {
   "cell_type": "code",
   "execution_count": 23,
   "metadata": {
    "collapsed": false
   },
   "outputs": [
    {
     "data": {
      "text/plain": [
       "alchemy_category\n",
       "?                     0.502135\n",
       "arts_entertainment    0.371945\n",
       "business              0.711364\n",
       "computer_internet     0.246622\n",
       "culture_politics      0.457726\n",
       "gaming                0.368421\n",
       "health                0.573123\n",
       "law_crime             0.419355\n",
       "recreation            0.684296\n",
       "religion              0.416667\n",
       "science_technology    0.456747\n",
       "sports                0.205263\n",
       "unknown               0.333333\n",
       "weather               0.000000\n",
       "Name: label, dtype: float64"
      ]
     },
     "execution_count": 23,
     "metadata": {},
     "output_type": "execute_result"
    }
   ],
   "source": [
    "df.groupby('alchemy_category').label.mean()"
   ]
  },
  {
   "cell_type": "code",
   "execution_count": 24,
   "metadata": {
    "collapsed": false
   },
   "outputs": [
    {
     "data": {
      "text/plain": [
       "<matplotlib.axes._subplots.AxesSubplot at 0x113b8e790>"
      ]
     },
     "execution_count": 24,
     "metadata": {},
     "output_type": "execute_result"
    },
    {
     "data": {
      "image/png": "[encoded data removed]",
      "text/plain": [
       "<matplotlib.figure.Figure at 0x114938150>"
      ]
     },
     "metadata": {},
     "output_type": "display_data"
    }
   ],
   "source": [
    "df.groupby('alchemy_category').label.mean().sort_values(ascending=False).plot(kind='bar')"
   ]
  },
  {
   "cell_type": "markdown",
   "metadata": {},
   "source": [
    "### How many articles are there per category?\n",
    "\n",
    "* We can do this using either value_counts or a groupby."
   ]
  },
  {
   "cell_type": "code",
   "execution_count": 25,
   "metadata": {
    "collapsed": false
   },
   "outputs": [
    {
     "data": {
      "text/plain": [
       "alchemy_category\n",
       "?                     2342\n",
       "arts_entertainment     941\n",
       "business               880\n",
       "computer_internet      296\n",
       "culture_politics       343\n",
       "gaming                  76\n",
       "health                 506\n",
       "law_crime               31\n",
       "recreation            1229\n",
       "religion                72\n",
       "science_technology     289\n",
       "sports                 380\n",
       "unknown                  6\n",
       "weather                  4\n",
       "Name: label, dtype: int64"
      ]
     },
     "execution_count": 25,
     "metadata": {},
     "output_type": "execute_result"
    }
   ],
   "source": [
    "# Using a groupby\n",
    "df.groupby('alchemy_category').label.count()"
   ]
  },
  {
   "cell_type": "code",
   "execution_count": 26,
   "metadata": {
    "collapsed": false
   },
   "outputs": [
    {
     "data": {
      "text/plain": [
       "?                     2342\n",
       "recreation            1229\n",
       "arts_entertainment     941\n",
       "business               880\n",
       "health                 506\n",
       "sports                 380\n",
       "culture_politics       343\n",
       "computer_internet      296\n",
       "science_technology     289\n",
       "gaming                  76\n",
       "religion                72\n",
       "law_crime               31\n",
       "unknown                  6\n",
       "weather                  4\n",
       "Name: alchemy_category, dtype: int64"
      ]
     },
     "execution_count": 26,
     "metadata": {},
     "output_type": "execute_result"
    }
   ],
   "source": [
    "# now values counts\n",
    "df.alchemy_category.value_counts()"
   ]
  },
  {
   "cell_type": "code",
   "execution_count": 27,
   "metadata": {
    "collapsed": false
   },
   "outputs": [
    {
     "data": {
      "text/plain": [
       "<matplotlib.axes._subplots.AxesSubplot at 0x11899e3d0>"
      ]
     },
     "execution_count": 27,
     "metadata": {},
     "output_type": "execute_result"
    },
    {
     "data": {
      "image/png": "[encoded data removed]",
      "text/plain": [
       "<matplotlib.figure.Figure at 0x113f83990>"
      ]
     },
     "metadata": {},
     "output_type": "display_data"
    }
   ],
   "source": [
    "df.alchemy_category.value_counts().plot(kind='bar')"
   ]
  },
  {
   "cell_type": "markdown",
   "metadata": {},
   "source": [
    "### Create a feature that indicates whether the title contains the word 'recipe'"
   ]
  },
  {
   "cell_type": "code",
   "execution_count": 28,
   "metadata": {
    "collapsed": false
   },
   "outputs": [],
   "source": [
    "# First we need to split the 'boilerplate' column into 'title' and 'body'\n",
    "\n",
    "df['title'] = df['boilerplate'].apply(lambda x: json.loads(x).get('title'))\n",
    "df['body'] = df['boilerplate'].apply(lambda x: json.loads(x).get('body'))"
   ]
  },
  {
   "cell_type": "code",
   "execution_count": 29,
   "metadata": {
    "collapsed": false
   },
   "outputs": [
    {
     "name": "stdout",
     "output_type": "stream",
     "text": [
      "Fruits that Fight the Flu fruits that fight the flu | cold & flu | men's health\n"
     ]
    }
   ],
   "source": [
    "# The title\n",
    "print df['title'][2]"
   ]
  },
  {
   "cell_type": "code",
   "execution_count": 30,
   "metadata": {
    "collapsed": false
   },
   "outputs": [
    {
     "name": "stdout",
     "output_type": "stream",
     "text": [
      "Apples The most popular source of antioxidants in our diet one apple has an antioxidant effect equivalent to 1 500 mg of vitamin C Apples are loaded with protective flavonoids which may prevent heart disease and cancer Next Papayas With 250 percent of the RDA of vitamin C a papaya can help kick a cold right out of your system The beta carotene and vitamins C and E in papayas reduce inflammation throughout the body lessening the effects of asthma Next Cranberries Cranberries have more antioxidants than other common fruits and veggies One serving has five times the amount in broccoli Cranberries are a natural probiotic enhancing good bacteria levels in the gut and protecting it from foodborne illnesses Next Grapefruit Loaded with vitamin C grapefruit also contains natural compounds called limonoids which can lower cholesterol The red varieties are a potent source of the cancer fighting substance lycopene Next Bananas One of the top food sources of vitamin B6 bananas help reduce fatigue depression stress and insomnia Bananas are high in magnesium which keeps bones strong and potassium which helps prevent heart disease and high blood pressure Next everything you need to know about cold and flu so you don’t get sick this season, at men’s health.com cold, flu, infection, sore throat, sneeze, immunity, germs, allergies, stay healthy, sick, contagious, medicines, cold medicine\n"
     ]
    }
   ],
   "source": [
    "# The body\n",
    "print df['body'][2]"
   ]
  },
  {
   "cell_type": "code",
   "execution_count": 31,
   "metadata": {
    "collapsed": false
   },
   "outputs": [],
   "source": [
    "# Create recipe binary column from 'title'\n",
    "\n",
    "df['recipe_in_title'] = df['title'].str.contains('recipe')"
   ]
  },
  {
   "cell_type": "code",
   "execution_count": 32,
   "metadata": {
    "collapsed": false
   },
   "outputs": [
    {
     "data": {
      "text/plain": [
       "recipe_in_title\n",
       "False    0.494380\n",
       "True     0.892351\n",
       "Name: label, dtype: float64"
      ]
     },
     "execution_count": 32,
     "metadata": {},
     "output_type": "execute_result"
    }
   ],
   "source": [
    "df.groupby('recipe_in_title').label.mean()"
   ]
  },
  {
   "cell_type": "code",
   "execution_count": 33,
   "metadata": {
    "collapsed": false
   },
   "outputs": [
    {
     "data": {
      "text/plain": [
       "<seaborn.axisgrid.FacetGrid at 0x113f83a50>"
      ]
     },
     "execution_count": 33,
     "metadata": {},
     "output_type": "execute_result"
    },
    {
     "data": {
      "image/png": "[encoded data removed]",
      "text/plain": [
       "<matplotlib.figure.Figure at 0x118d04ed0>"
      ]
     },
     "metadata": {},
     "output_type": "display_data"
    }
   ],
   "source": [
    "# Create quick bar chart to see if having the word 'recipe' affects the label\n",
    "\n",
    "sns.factorplot(x='recipe_in_title', y='label', kind='bar', data=df)"
   ]
  },
  {
   "cell_type": "markdown",
   "metadata": {},
   "source": [
    "### Partner Up: Take 10 minutes to explore some other relationships\n",
    "\n",
    "* Are there other visualizations or groupings that can give us some insights into the data?\n",
    "* Try playing with words other than 'recipe'\n",
    "* How does the presence of images effect the evergreen-ness?"
   ]
  },
  {
   "cell_type": "code",
   "execution_count": 34,
   "metadata": {
    "collapsed": false
   },
   "outputs": [],
   "source": [
    "df['food_in_body'] = df['body'].str.contains('food')"
   ]
  },
  {
   "cell_type": "code",
   "execution_count": 35,
   "metadata": {
    "collapsed": false
   },
   "outputs": [
    {
     "data": {
      "text/plain": [
       "food_in_body\n",
       "False    0.427640\n",
       "True     0.774904\n",
       "Name: label, dtype: float64"
      ]
     },
     "execution_count": 35,
     "metadata": {},
     "output_type": "execute_result"
    }
   ],
   "source": [
    "df.groupby('food_in_body').label.mean()"
   ]
  },
  {
   "cell_type": "code",
   "execution_count": 36,
   "metadata": {
    "collapsed": false
   },
   "outputs": [
    {
     "data": {
      "text/plain": [
       "<seaborn.axisgrid.FacetGrid at 0x1189bc810>"
      ]
     },
     "execution_count": 36,
     "metadata": {},
     "output_type": "execute_result"
    },
    {
     "data": {
      "image/png": "[encoded data removed]",
      "text/plain": [
       "<matplotlib.figure.Figure at 0x11894cb50>"
      ]
     },
     "metadata": {},
     "output_type": "display_data"
    }
   ],
   "source": [
    "sns.factorplot(x='food_in_body', y='label', kind='bar', data=df)"
   ]
  },
  {
   "cell_type": "markdown",
   "metadata": {},
   "source": [
    "### Prepare the data for modelling"
   ]
  },
  {
   "cell_type": "code",
   "execution_count": 37,
   "metadata": {
    "collapsed": false
   },
   "outputs": [],
   "source": [
    "# Create dummies for the alchemy category\n",
    "# Remember to drop one of the columns!\n",
    "\n",
    "df = df.dropna()\n",
    "\n",
    "alch_dummies = pd.get_dummies(df['alchemy_category'], prefix='alchemy_cat', drop_first=True)\n",
    "\n",
    "df = pd.concat([df, alch_dummies], axis=1)\n",
    "df.drop('alchemy_category', axis=1, inplace=True)"
   ]
  },
  {
   "cell_type": "code",
   "execution_count": 38,
   "metadata": {
    "collapsed": false
   },
   "outputs": [
    {
     "data": {
      "text/html": [
       "<div>\n",
       "<table border=\"1\" class=\"dataframe\">\n",
       "  <thead>\n",
       "    <tr style=\"text-align: right;\">\n",
       "      <th></th>\n",
       "      <th>url</th>\n",
       "      <th>urlid</th>\n",
       "      <th>boilerplate</th>\n",
       "      <th>alchemy_category_score</th>\n",
       "      <th>avglinksize</th>\n",
       "      <th>commonlinkratio_1</th>\n",
       "      <th>commonlinkratio_2</th>\n",
       "      <th>commonlinkratio_3</th>\n",
       "      <th>commonlinkratio_4</th>\n",
       "      <th>compression_ratio</th>\n",
       "      <th>...</th>\n",
       "      <th>alchemy_cat_culture_politics</th>\n",
       "      <th>alchemy_cat_gaming</th>\n",
       "      <th>alchemy_cat_health</th>\n",
       "      <th>alchemy_cat_law_crime</th>\n",
       "      <th>alchemy_cat_recreation</th>\n",
       "      <th>alchemy_cat_religion</th>\n",
       "      <th>alchemy_cat_science_technology</th>\n",
       "      <th>alchemy_cat_sports</th>\n",
       "      <th>alchemy_cat_unknown</th>\n",
       "      <th>alchemy_cat_weather</th>\n",
       "    </tr>\n",
       "  </thead>\n",
       "  <tbody>\n",
       "    <tr>\n",
       "      <th>0</th>\n",
       "      <td>http://www.bloomberg.com/news/2010-12-23/ibm-p...</td>\n",
       "      <td>4042</td>\n",
       "      <td>{\"title\":\"IBM Sees Holographic Calls Air Breat...</td>\n",
       "      <td>0.789131</td>\n",
       "      <td>2.055556</td>\n",
       "      <td>0.676471</td>\n",
       "      <td>0.205882</td>\n",
       "      <td>0.047059</td>\n",
       "      <td>0.023529</td>\n",
       "      <td>0.443783</td>\n",
       "      <td>...</td>\n",
       "      <td>0</td>\n",
       "      <td>0</td>\n",
       "      <td>0</td>\n",
       "      <td>0</td>\n",
       "      <td>0</td>\n",
       "      <td>0</td>\n",
       "      <td>0</td>\n",
       "      <td>0</td>\n",
       "      <td>0</td>\n",
       "      <td>0</td>\n",
       "    </tr>\n",
       "    <tr>\n",
       "      <th>1</th>\n",
       "      <td>http://www.popsci.com/technology/article/2012-...</td>\n",
       "      <td>8471</td>\n",
       "      <td>{\"title\":\"The Fully Electronic Futuristic Star...</td>\n",
       "      <td>0.574147</td>\n",
       "      <td>3.677966</td>\n",
       "      <td>0.508021</td>\n",
       "      <td>0.288770</td>\n",
       "      <td>0.213904</td>\n",
       "      <td>0.144385</td>\n",
       "      <td>0.468649</td>\n",
       "      <td>...</td>\n",
       "      <td>0</td>\n",
       "      <td>0</td>\n",
       "      <td>0</td>\n",
       "      <td>0</td>\n",
       "      <td>1</td>\n",
       "      <td>0</td>\n",
       "      <td>0</td>\n",
       "      <td>0</td>\n",
       "      <td>0</td>\n",
       "      <td>0</td>\n",
       "    </tr>\n",
       "    <tr>\n",
       "      <th>2</th>\n",
       "      <td>http://www.menshealth.com/health/flu-fighting-...</td>\n",
       "      <td>1164</td>\n",
       "      <td>{\"title\":\"Fruits that Fight the Flu fruits tha...</td>\n",
       "      <td>0.996526</td>\n",
       "      <td>2.382883</td>\n",
       "      <td>0.562016</td>\n",
       "      <td>0.321705</td>\n",
       "      <td>0.120155</td>\n",
       "      <td>0.042636</td>\n",
       "      <td>0.525448</td>\n",
       "      <td>...</td>\n",
       "      <td>0</td>\n",
       "      <td>0</td>\n",
       "      <td>1</td>\n",
       "      <td>0</td>\n",
       "      <td>0</td>\n",
       "      <td>0</td>\n",
       "      <td>0</td>\n",
       "      <td>0</td>\n",
       "      <td>0</td>\n",
       "      <td>0</td>\n",
       "    </tr>\n",
       "    <tr>\n",
       "      <th>3</th>\n",
       "      <td>http://www.dumblittleman.com/2007/12/10-foolpr...</td>\n",
       "      <td>6684</td>\n",
       "      <td>{\"title\":\"10 Foolproof Tips for Better Sleep \"...</td>\n",
       "      <td>0.801248</td>\n",
       "      <td>1.543103</td>\n",
       "      <td>0.400000</td>\n",
       "      <td>0.100000</td>\n",
       "      <td>0.016667</td>\n",
       "      <td>0.000000</td>\n",
       "      <td>0.480725</td>\n",
       "      <td>...</td>\n",
       "      <td>0</td>\n",
       "      <td>0</td>\n",
       "      <td>1</td>\n",
       "      <td>0</td>\n",
       "      <td>0</td>\n",
       "      <td>0</td>\n",
       "      <td>0</td>\n",
       "      <td>0</td>\n",
       "      <td>0</td>\n",
       "      <td>0</td>\n",
       "    </tr>\n",
       "    <tr>\n",
       "      <th>4</th>\n",
       "      <td>http://bleacherreport.com/articles/1205138-the...</td>\n",
       "      <td>9006</td>\n",
       "      <td>{\"title\":\"The 50 Coolest Jerseys You Didn t Kn...</td>\n",
       "      <td>0.719157</td>\n",
       "      <td>2.676471</td>\n",
       "      <td>0.500000</td>\n",
       "      <td>0.222222</td>\n",
       "      <td>0.123457</td>\n",
       "      <td>0.043210</td>\n",
       "      <td>0.446143</td>\n",
       "      <td>...</td>\n",
       "      <td>0</td>\n",
       "      <td>0</td>\n",
       "      <td>0</td>\n",
       "      <td>0</td>\n",
       "      <td>0</td>\n",
       "      <td>0</td>\n",
       "      <td>0</td>\n",
       "      <td>1</td>\n",
       "      <td>0</td>\n",
       "      <td>0</td>\n",
       "    </tr>\n",
       "  </tbody>\n",
       "</table>\n",
       "<p>5 rows × 43 columns</p>\n",
       "</div>"
      ],
      "text/plain": [
       "                                                 url  urlid  \\\n",
       "0  http://www.bloomberg.com/news/2010-12-23/ibm-p...   4042   \n",
       "1  http://www.popsci.com/technology/article/2012-...   8471   \n",
       "2  http://www.menshealth.com/health/flu-fighting-...   1164   \n",
       "3  http://www.dumblittleman.com/2007/12/10-foolpr...   6684   \n",
       "4  http://bleacherreport.com/articles/1205138-the...   9006   \n",
       "\n",
       "                                         boilerplate alchemy_category_score  \\\n",
       "0  {\"title\":\"IBM Sees Holographic Calls Air Breat...               0.789131   \n",
       "1  {\"title\":\"The Fully Electronic Futuristic Star...               0.574147   \n",
       "2  {\"title\":\"Fruits that Fight the Flu fruits tha...               0.996526   \n",
       "3  {\"title\":\"10 Foolproof Tips for Better Sleep \"...               0.801248   \n",
       "4  {\"title\":\"The 50 Coolest Jerseys You Didn t Kn...               0.719157   \n",
       "\n",
       "   avglinksize  commonlinkratio_1  commonlinkratio_2  commonlinkratio_3  \\\n",
       "0     2.055556           0.676471           0.205882           0.047059   \n",
       "1     3.677966           0.508021           0.288770           0.213904   \n",
       "2     2.382883           0.562016           0.321705           0.120155   \n",
       "3     1.543103           0.400000           0.100000           0.016667   \n",
       "4     2.676471           0.500000           0.222222           0.123457   \n",
       "\n",
       "   commonlinkratio_4  compression_ratio         ...          \\\n",
       "0           0.023529           0.443783         ...           \n",
       "1           0.144385           0.468649         ...           \n",
       "2           0.042636           0.525448         ...           \n",
       "3           0.000000           0.480725         ...           \n",
       "4           0.043210           0.446143         ...           \n",
       "\n",
       "   alchemy_cat_culture_politics  alchemy_cat_gaming  alchemy_cat_health  \\\n",
       "0                             0                   0                   0   \n",
       "1                             0                   0                   0   \n",
       "2                             0                   0                   1   \n",
       "3                             0                   0                   1   \n",
       "4                             0                   0                   0   \n",
       "\n",
       "   alchemy_cat_law_crime  alchemy_cat_recreation  alchemy_cat_religion  \\\n",
       "0                      0                       0                     0   \n",
       "1                      0                       1                     0   \n",
       "2                      0                       0                     0   \n",
       "3                      0                       0                     0   \n",
       "4                      0                       0                     0   \n",
       "\n",
       "  alchemy_cat_science_technology  alchemy_cat_sports  alchemy_cat_unknown  \\\n",
       "0                              0                   0                    0   \n",
       "1                              0                   0                    0   \n",
       "2                              0                   0                    0   \n",
       "3                              0                   0                    0   \n",
       "4                              0                   1                    0   \n",
       "\n",
       "  alchemy_cat_weather  \n",
       "0                   0  \n",
       "1                   0  \n",
       "2                   0  \n",
       "3                   0  \n",
       "4                   0  \n",
       "\n",
       "[5 rows x 43 columns]"
      ]
     },
     "execution_count": 38,
     "metadata": {},
     "output_type": "execute_result"
    }
   ],
   "source": [
    "df.head()"
   ]
  },
  {
   "cell_type": "code",
   "execution_count": 39,
   "metadata": {
    "collapsed": false
   },
   "outputs": [],
   "source": [
    "# Set the features that we'll use for modeling\n",
    "\n",
    "features = ['image_ratio','html_ratio','recipe_in_title']\n",
    "features.extend(alch_dummies.columns.tolist())"
   ]
  },
  {
   "cell_type": "code",
   "execution_count": 40,
   "metadata": {
    "collapsed": false
   },
   "outputs": [
    {
     "data": {
      "text/plain": [
       "['image_ratio',\n",
       " 'html_ratio',\n",
       " 'recipe_in_title',\n",
       " 'alchemy_cat_arts_entertainment',\n",
       " 'alchemy_cat_business',\n",
       " 'alchemy_cat_computer_internet',\n",
       " 'alchemy_cat_culture_politics',\n",
       " 'alchemy_cat_gaming',\n",
       " 'alchemy_cat_health',\n",
       " 'alchemy_cat_law_crime',\n",
       " 'alchemy_cat_recreation',\n",
       " 'alchemy_cat_religion',\n",
       " 'alchemy_cat_science_technology',\n",
       " 'alchemy_cat_sports',\n",
       " 'alchemy_cat_unknown',\n",
       " 'alchemy_cat_weather']"
      ]
     },
     "execution_count": 40,
     "metadata": {},
     "output_type": "execute_result"
    }
   ],
   "source": [
    "features"
   ]
  },
  {
   "cell_type": "code",
   "execution_count": 41,
   "metadata": {
    "collapsed": false
   },
   "outputs": [],
   "source": [
    "# Set X and y\n",
    "X = df[features]\n",
    "y = df.label"
   ]
  },
  {
   "cell_type": "code",
   "execution_count": 42,
   "metadata": {
    "collapsed": false
   },
   "outputs": [],
   "source": [
    "# Let's try logistic regression and KNN\n",
    "\n",
    "logreg = LogisticRegression()\n",
    "knn = KNeighborsClassifier()"
   ]
  },
  {
   "cell_type": "code",
   "execution_count": 43,
   "metadata": {
    "collapsed": false
   },
   "outputs": [
    {
     "name": "stdout",
     "output_type": "stream",
     "text": [
      "0.621069519513\n"
     ]
    }
   ],
   "source": [
    "logreg_scores = cross_val_score(logreg, X, y, cv=10)\n",
    "print(logreg_scores.mean())"
   ]
  },
  {
   "cell_type": "code",
   "execution_count": 44,
   "metadata": {
    "collapsed": false
   },
   "outputs": [
    {
     "name": "stdout",
     "output_type": "stream",
     "text": [
      "0.589677044713\n"
     ]
    }
   ],
   "source": [
    "knn_scores = cross_val_score(knn, X, y, cv=10)\n",
    "print(knn_scores.mean())"
   ]
  },
  {
   "cell_type": "code",
   "execution_count": 45,
   "metadata": {
    "collapsed": false
   },
   "outputs": [],
   "source": [
    "# Now let's do a train/test/split to prevent overfitting\n",
    "\n",
    "X_train, X_test, y_train, y_test = train_test_split(X, y, test_size=0.4, random_state=42)"
   ]
  },
  {
   "cell_type": "code",
   "execution_count": 46,
   "metadata": {
    "collapsed": false
   },
   "outputs": [],
   "source": [
    "# Let's try a Decision Tree!\n",
    "\n",
    "dt = DecisionTreeClassifier()"
   ]
  },
  {
   "cell_type": "code",
   "execution_count": 47,
   "metadata": {
    "collapsed": false
   },
   "outputs": [
    {
     "data": {
      "text/plain": [
       "DecisionTreeClassifier(class_weight=None, criterion='gini', max_depth=None,\n",
       "            max_features=None, max_leaf_nodes=None,\n",
       "            min_impurity_split=1e-07, min_samples_leaf=1,\n",
       "            min_samples_split=2, min_weight_fraction_leaf=0.0,\n",
       "            presort=False, random_state=None, splitter='best')"
      ]
     },
     "execution_count": 47,
     "metadata": {},
     "output_type": "execute_result"
    }
   ],
   "source": [
    "dt.fit(X_train, y_train)"
   ]
  },
  {
   "cell_type": "markdown",
   "metadata": {},
   "source": [
    "Notice two of the default parameters: **min_samples_leaf = 1** and **max_depth = None**"
   ]
  },
  {
   "cell_type": "code",
   "execution_count": 48,
   "metadata": {
    "collapsed": false
   },
   "outputs": [
    {
     "name": "stdout",
     "output_type": "stream",
     "text": [
      "Accuracy: 0.554\n",
      "ROC AUC: 0.554\n"
     ]
    }
   ],
   "source": [
    "# Evaluate accuracy of model on test set\n",
    "print(\"Accuracy: %0.3f\" % dt.score(X_test, y_test))\n",
    "\n",
    "# Evaluate ROC AUC score of model on test set\n",
    "print('ROC AUC: %0.3f' % roc_auc_score(y_test, dt.predict_proba(X_test)[:,1]))"
   ]
  },
  {
   "cell_type": "markdown",
   "metadata": {},
   "source": [
    "### Demo: Overfitting in decision trees\n",
    "##### Objective: Understand the differences between linear and non-linear models\n",
    "\n",
    "Decision trees tend to be weak models because they can easily memorize or overfit to a dataset.\n",
    "\n",
    "A model is overfit when it memorizes or bends to a few specific data points rather than picking up general trends in the data.\n",
    "\n",
    "An unconstrained decision tree can learn an extreme tree (e.g. one feature for each word in a news article).\n",
    "\n",
    "We can limit our decision trees using a few methods:\n",
    "\n",
    "**(1) Limiting the number of questions a tree can have (nodes).**\n",
    "\n",
    "**(2) Limiting the number of samples in the leaf nodes.**\n",
    "\n",
    "**(3) Setting a minimum purity threshold for splits.**"
   ]
  },
  {
   "cell_type": "code",
   "execution_count": 76,
   "metadata": {
    "collapsed": false
   },
   "outputs": [
    {
     "data": {
      "image/png": "[encoded data removed]",
      "text/plain": [
       "<matplotlib.figure.Figure at 0x1136ce050>"
      ]
     },
     "metadata": {},
     "output_type": "display_data"
    },
    {
     "data": {
      "image/png": "[encoded data removed]",
      "text/plain": [
       "<matplotlib.figure.Figure at 0x113febb10>"
      ]
     },
     "metadata": {},
     "output_type": "display_data"
    }
   ],
   "source": [
    "import numpy as np\n",
    "import matplotlib.pyplot as plt\n",
    "from matplotlib.colors import ListedColormap\n",
    "from sklearn import neighbors, datasets\n",
    "\n",
    "hyperparameters = [(8, 1), (8, 5)]\n",
    "\n",
    "# import some data to play with\n",
    "iris = datasets.load_iris()\n",
    "X_iris = iris.data[:, :2]  # we only take the first two features. We could\n",
    "# avoid this ugly slicing by using a two-dim dataset\n",
    "y_iris = iris.target\n",
    "\n",
    "h = .02  # step size in the mesh\n",
    "\n",
    "# Create color maps\n",
    "cmap_light = ListedColormap(['#FFAAAA', '#AAFFAA', '#AAAAFF'])\n",
    "cmap_bold = ListedColormap(['#FF0000', '#00FF00', '#0000FF'])\n",
    "\n",
    "for max_depth, min_samples_leaf in hyperparameters:\n",
    "    # we create an instance of a Decision Tree and fit the data.\n",
    "    clf = tree.DecisionTreeClassifier(max_depth=max_depth, \n",
    "                                      min_samples_leaf=min_samples_leaf)\n",
    "    clf.fit(X_iris, y_iris)\n",
    "\n",
    "    # Plot the decision boundary. For that, we will assign a color to each\n",
    "    # point in the mesh [x_min, m_max]x[y_min, y_max].\n",
    "    x_min, x_max = X_iris[:, 0].min() - 1, X_iris[:, 0].max() + 1\n",
    "    y_min, y_max = X_iris[:, 1].min() - 1, X_iris[:, 1].max() + 1\n",
    "    xx, yy = np.meshgrid(np.arange(x_min, x_max, h),\n",
    "                         np.arange(y_min, y_max, h))\n",
    "    Z = clf.predict(np.c_[xx.ravel(), yy.ravel()])\n",
    "\n",
    "    # Put the result into a color plot\n",
    "    Z = Z.reshape(xx.shape)\n",
    "    plt.figure()\n",
    "    plt.pcolormesh(xx, yy, Z, cmap=cmap_light)\n",
    "\n",
    "    # Plot also the training points\n",
    "    plt.scatter(X_iris[:, 0], X_iris[:, 1], c=y_iris, cmap=cmap_bold)\n",
    "    plt.xlim(xx.min(), xx.max())\n",
    "    plt.ylim(yy.min(), yy.max())\n",
    "    plt.title(\"3-Class classification (max_depth = %i, min_samples_leaf = %i)\"\n",
    "              % (max_depth, min_samples_leaf))"
   ]
  },
  {
   "cell_type": "markdown",
   "metadata": {},
   "source": [
    "### Is our model overfit?"
   ]
  },
  {
   "cell_type": "code",
   "execution_count": 50,
   "metadata": {
    "collapsed": false
   },
   "outputs": [
    {
     "data": {
      "text/plain": [
       "DecisionTreeClassifier(class_weight=None, criterion='gini', max_depth=None,\n",
       "            max_features=None, max_leaf_nodes=None,\n",
       "            min_impurity_split=1e-07, min_samples_leaf=1,\n",
       "            min_samples_split=2, min_weight_fraction_leaf=0.0,\n",
       "            presort=False, random_state=None, splitter='best')"
      ]
     },
     "execution_count": 50,
     "metadata": {},
     "output_type": "execute_result"
    }
   ],
   "source": [
    "# Let's take a look at the properties of our DT from the previous instantiation\n",
    "\n",
    "dt "
   ]
  },
  {
   "cell_type": "code",
   "execution_count": 51,
   "metadata": {
    "collapsed": false
   },
   "outputs": [
    {
     "name": "stdout",
     "output_type": "stream",
     "text": [
      "1.0\n",
      "0.554077106789\n"
     ]
    }
   ],
   "source": [
    "# Evaluate model on train set\n",
    "print(dt.score(X_train, y_train))\n",
    "\n",
    "# Evaluate model on test set\n",
    "print(dt.score(X_test, y_test))"
   ]
  },
  {
   "cell_type": "markdown",
   "metadata": {},
   "source": [
    "Here's the documentation for **max_depth**, **min_samples_leaf**, and **min_impurity_split** from the sklearn site:\n",
    "\n",
    "**max_depth** : int or None, optional (default=None)\n",
    "* The maximum depth of the tree. If None, then nodes are expanded until all leaves are pure or until all leaves contain less than min_samples_split samples.\n",
    "\n",
    "**min_samples_leaf** : int, float, optional (default=1)\n",
    "* The minimum number of samples required to be at a leaf node\n",
    "\n",
    "**min_impurity_split** : (float) \n",
    "* Threshold for early stopping in tree growth. A node will split if its impurity is above the threshold, otherwise it is a leaf."
   ]
  },
  {
   "cell_type": "markdown",
   "metadata": {},
   "source": [
    "### 3.2 Demo: Bias vs. Variance\n",
    "Control for overfitting in the decision model by adjusting the maximum number of questions (max_depth) or the minimum number of records in each final node (min_samples_leaf)"
   ]
  },
  {
   "cell_type": "code",
   "execution_count": 52,
   "metadata": {
    "collapsed": false
   },
   "outputs": [
    {
     "data": {
      "text/plain": [
       "DecisionTreeClassifier(class_weight=None, criterion='gini', max_depth=5,\n",
       "            max_features=None, max_leaf_nodes=None,\n",
       "            min_impurity_split=1e-07, min_samples_leaf=20,\n",
       "            min_samples_split=2, min_weight_fraction_leaf=0.0,\n",
       "            presort=False, random_state=None, splitter='best')"
      ]
     },
     "execution_count": 52,
     "metadata": {},
     "output_type": "execute_result"
    }
   ],
   "source": [
    "# Instantiate model with parameters\n",
    "dt_new = DecisionTreeClassifier(max_depth=5, min_samples_leaf=20)\n",
    "\n",
    "# Train model on training set\n",
    "dt_new.fit(X_train, y_train)"
   ]
  },
  {
   "cell_type": "code",
   "execution_count": 53,
   "metadata": {
    "collapsed": false
   },
   "outputs": [
    {
     "name": "stdout",
     "output_type": "stream",
     "text": [
      "Accuracy: 0.621\n",
      "Accuracy: 0.606\n"
     ]
    }
   ],
   "source": [
    "# Evaluate model on train set\n",
    "print(\"Accuracy: %0.3f\" % dt_new.score(X_train, y_train))\n",
    "\n",
    "# Evaluate model on test set\n",
    "print(\"Accuracy: %0.3f\" % dt_new.score(X_test, y_test))"
   ]
  },
  {
   "cell_type": "markdown",
   "metadata": {},
   "source": [
    "## Introduction: Ensembles and random forests\n",
    "**Objective**: Understand random forest models for classification and regression\n",
    "\n",
    "Let's pretend that instead of building a single model to solve a binary classification problem, you created **five independent models**, and each model was correct about 70% of the time. If you combined these models into an \"ensemble\" and used their majority vote as a prediction, how often would the ensemble be correct?\n",
    "\n",
    "## What is ensembling?\n",
    "\n",
    "![](./images/ensemble_process.png)\n",
    "\n",
    "**Ensemble learning (or \"ensembling\")** is the process of combining several predictive models in order to produce a combined model that is more accurate than any individual model.\n",
    "- **Regression**: take the average of the predictions\n",
    "- **Classification**: take a vote and use the most common prediction, or take the average of the predicted probabilities\n",
    "\n",
    "For ensembling to work well, the models must have the following characteristics:\n",
    "- **Accurate**: they outperform the null model\n",
    "- **Independent**: their predictions are generated using different processes\n",
    "\n",
    "    **The big idea**: If you have a collection of individually imperfect (and independent) models, the \"one-off\" mistakes made by each model are probably not going to be made by the rest of the models, and thus the mistakes will be discarded when averaging the models.\n",
    "    \n",
    "![](./assets/images/crowdflower_ensembling.jpg)\n",
    "\n",
    "### Bagging: bootstrap aggregation\n",
    "\n",
    "The primary weakness of **decision trees** is that they don't tend to have the best predictive accuracy. This is partially due to **high variance**, meaning that different splits in the training data can lead to very different trees.\n",
    "\n",
    "**Bagging** is a general purpose procedure for reducing the variance of a machine learning method, but is particularly useful for decision trees. Bagging is short for **bootstrap aggregation**, meaning the aggregation of bootstrap samples.\n",
    "\n",
    "What is a **bootstrap sample**? A random sample with replacement:\n",
    "\n",
    "**How does bagging work (for decision trees)?**\n",
    "1. Grow B trees using B bootstrap samples from the training data.\n",
    "2. Train each tree on its bootstrap sample and make predictions.\n",
    "3. Combine the predictions:\n",
    " - Average the predictions for regression trees\n",
    " - Take a vote for classification trees\n",
    " \n",
    "![title](https://prachimjoshi.files.wordpress.com/2015/07/screen_shot_2010-12-03_at_5-46-21_pm.png)\n",
    " \n",
    "### Random Forests\n",
    "Random Forests is a slight variation of bagged trees that has even better performance:\n",
    "- Exactly like bagging, we create an ensemble of decision trees using bootstrapped samples of the training set.\n",
    "- However, when building each tree, each time a split is considered, a **random sample of m features** is chosen as split candidates from the full set of p features. The split is only allowed to use one of those m features.\n",
    "- A new random sample of features is chosen for every single tree at every single split.\n",
    "- For classification, m is typically chosen to be the square root of p.\n",
    "- For regression, m is typically chosen to be somewhere between p/3 and p.\n",
    "\n",
    "![title](https://d2wh20haedxe3f.cloudfront.net/sites/default/files/random_forest_diagram_complete.png)\n",
    "\n",
    "**What's the point?**\n",
    "\n",
    "Suppose there is **one very strong feature** in the data set. When using bagged trees, most of the trees will use that feature as the top split, resulting in an ensemble of similar trees that are **highly correlated**.\n",
    "- Averaging highly correlated quantities does not significantly reduce variance (which is the entire goal of bagging).\n",
    "- By randomly leaving out candidate features from each split, **Random Forests \"decorrelates\" the trees**, such that the averaging process can reduce the variance of the resulting model.\n",
    "\n",
    "- Random forest models are one of the most widespread classifiers used.\n",
    "- They are relatively simple to use and help avoid overfitting.\n",
    "- Random Forests are an ensemble or collection of individual decision trees.\n",
    "\n",
    "**Training a Random Forest**\n",
    "\n",
    "Training a random forest model involves training many decision tree models.\n",
    "\n",
    "Since decision trees overfit easily, we use many decision trees together and randomize the way they are created.\n",
    "\n",
    "![](assets/images/tree_ensemble.png)\n",
    "\n",
    "\n",
    "**Random Forest Algorithm**\n",
    "\n",
    "1. Take a bootstrap sample of the dataset. (Sample random rows)\n",
    "2. Train a decision tree on the bootstrap sample.  For each split/feature selection, only evaluate a limited number of features to find the best one.\n",
    "3. Repeat this for N trees.\n",
    "\n",
    "**How do I make predictions with a collection of trees?**\n",
    "- Predictions for a random forest model come from each decision tree.\n",
    "- Make an individual prediction with each decision tree.\n",
    "- Combine the individual predictions and take the majority vote or average in the case of regression.\n",
    "\n",
    "**Why does this work?**\n",
    "- A tree with a large depth is relatively low bias and high variance\n",
    "- When we average the predictions of the trees we reduce the variance\n",
    "- The amazing part is that we don't raise the bias unless the trees are correlated\n",
    "- We get a sharper estimation of the predictions, just like taking the mean of a large sample vs a small sample\n",
    "\n",
    "**Real world application**\n",
    "\n",
    "Ensembling is one of the secret sauces to Kaggle competitions.\n",
    "\n",
    "Ensembling is not only limited to trees, you can use any other model or a mix of models to ensemble, provided that their predictions are generally uncorrelated and are better than random. \n",
    "\n",
    "This means that you should mix models that work differently from each other, such as linear vs non-linear."
   ]
  },
  {
   "cell_type": "markdown",
   "metadata": {},
   "source": [
    "### Knowledge Check\n",
    "* How could a decision tree model overfit a dataset?\n",
    "* What are some ways to mitigate overfitting in a decision tree?\n",
    "* What is ensembling? How does it help us develop more robust models?\n",
    "* What is bagging?\n",
    "* Where does the 'Random' in Random Forest come from?\n",
    "\n",
    "## Random Forest Time"
   ]
  },
  {
   "cell_type": "code",
   "execution_count": 54,
   "metadata": {
    "collapsed": true
   },
   "outputs": [],
   "source": [
    "from sklearn.ensemble import RandomForestClassifier"
   ]
  },
  {
   "cell_type": "code",
   "execution_count": 55,
   "metadata": {
    "collapsed": true
   },
   "outputs": [],
   "source": [
    "# Instantiate a Random Forest Classifier\n",
    "rf = RandomForestClassifier()"
   ]
  },
  {
   "cell_type": "code",
   "execution_count": 56,
   "metadata": {
    "collapsed": false,
    "scrolled": true
   },
   "outputs": [
    {
     "data": {
      "text/plain": [
       "RandomForestClassifier(bootstrap=True, class_weight=None, criterion='gini',\n",
       "            max_depth=None, max_features='auto', max_leaf_nodes=None,\n",
       "            min_impurity_split=1e-07, min_samples_leaf=1,\n",
       "            min_samples_split=2, min_weight_fraction_leaf=0.0,\n",
       "            n_estimators=10, n_jobs=1, oob_score=False, random_state=None,\n",
       "            verbose=0, warm_start=False)"
      ]
     },
     "execution_count": 56,
     "metadata": {},
     "output_type": "execute_result"
    }
   ],
   "source": [
    "rf.fit(X_train, y_train)"
   ]
  },
  {
   "cell_type": "markdown",
   "metadata": {},
   "source": [
    "Notice the propertry **n_estimators**. This refers to the number of trees in the forest"
   ]
  },
  {
   "cell_type": "code",
   "execution_count": 57,
   "metadata": {
    "collapsed": false
   },
   "outputs": [
    {
     "name": "stdout",
     "output_type": "stream",
     "text": [
      "Accuracy: 0.972\n",
      "Accuracy: 0.588\n"
     ]
    }
   ],
   "source": [
    "# Evaluate model on train set\n",
    "print(\"Accuracy: %0.3f\" % rf.score(X_train, y_train))\n",
    "\n",
    "# Evaluate model on test set\n",
    "print(\"Accuracy: %0.3f\" % rf.score(X_test, y_test))"
   ]
  },
  {
   "cell_type": "markdown",
   "metadata": {},
   "source": [
    "### Tune and update the model with grid search"
   ]
  },
  {
   "cell_type": "code",
   "execution_count": 58,
   "metadata": {
    "collapsed": true
   },
   "outputs": [],
   "source": [
    "# Set list of values to grid search over\n",
    "\n",
    "# The number of trees in the rf\n",
    "n = [1, 3, 10, 30]\n",
    "\n",
    "# The min number of observations in each leaf\n",
    "samples = [1, 10, 30]\n",
    "\n",
    "# How many splits\n",
    "depth = [None, 3, 5, 7]\n",
    "\n",
    "# The percentage of max features to look at for each split\n",
    "# 'auto' means you don't subset the features\n",
    "features = ['auto', 0.25, 0.5, 0.75, None]\n",
    "\n",
    "params = {'n_estimators': n,\n",
    "         'min_samples_leaf':samples,\n",
    "         'max_depth':depth,\n",
    "         'max_features':features}"
   ]
  },
  {
   "cell_type": "code",
   "execution_count": 59,
   "metadata": {
    "collapsed": true
   },
   "outputs": [],
   "source": [
    "from sklearn.model_selection import GridSearchCV\n",
    "\n",
    "# Do a 5 fold CV\n",
    "gs = GridSearchCV(estimator = rf, param_grid = params, n_jobs=-1, verbose = True, cv=5)"
   ]
  },
  {
   "cell_type": "code",
   "execution_count": 60,
   "metadata": {
    "collapsed": false
   },
   "outputs": [
    {
     "name": "stdout",
     "output_type": "stream",
     "text": [
      "Fitting 5 folds for each of 240 candidates, totalling 1200 fits\n"
     ]
    },
    {
     "name": "stderr",
     "output_type": "stream",
     "text": [
      "[Parallel(n_jobs=-1)]: Done  76 tasks      | elapsed:    4.9s\n",
      "[Parallel(n_jobs=-1)]: Done 376 tasks      | elapsed:   26.0s\n",
      "[Parallel(n_jobs=-1)]: Done 876 tasks      | elapsed:   50.6s\n",
      "[Parallel(n_jobs=-1)]: Done 1200 out of 1200 | elapsed:  1.2min finished\n"
     ]
    },
    {
     "data": {
      "text/plain": [
       "GridSearchCV(cv=5, error_score='raise',\n",
       "       estimator=RandomForestClassifier(bootstrap=True, class_weight=None, criterion='gini',\n",
       "            max_depth=None, max_features='auto', max_leaf_nodes=None,\n",
       "            min_impurity_split=1e-07, min_samples_leaf=1,\n",
       "            min_samples_split=2, min_weight_fraction_leaf=0.0,\n",
       "            n_estimators=10, n_jobs=1, oob_score=False, random_state=None,\n",
       "            verbose=0, warm_start=False),\n",
       "       fit_params={}, iid=True, n_jobs=-1,\n",
       "       param_grid={'n_estimators': [1, 3, 10, 30], 'max_features': ['auto', 0.25, 0.5, 0.75, None], 'max_depth': [None, 3, 5, 7], 'min_samples_leaf': [1, 10, 30]},\n",
       "       pre_dispatch='2*n_jobs', refit=True, return_train_score=True,\n",
       "       scoring=None, verbose=True)"
      ]
     },
     "execution_count": 60,
     "metadata": {},
     "output_type": "execute_result"
    }
   ],
   "source": [
    "gs.fit(X, y)"
   ]
  },
  {
   "cell_type": "code",
   "execution_count": 61,
   "metadata": {
    "collapsed": false
   },
   "outputs": [
    {
     "name": "stdout",
     "output_type": "stream",
     "text": [
      "Best Params:\n",
      "{'max_features': 'auto', 'n_estimators': 30, 'max_depth': 7, 'min_samples_leaf': 10}\n"
     ]
    }
   ],
   "source": [
    "# Get best value to use\n",
    "print(\"Best Params:\")\n",
    "print(gs.best_params_)"
   ]
  },
  {
   "cell_type": "markdown",
   "metadata": {},
   "source": [
    "The characteristics of the best RFC from Grid Search:\n",
    "* There are a total of _____ trees in this random forest\n",
    "* The minimum number of samples required to be in a leaf is _____\n",
    "* The percentage of features we subset for each split is _____\n",
    "* Bonus: what is the depth of each of the trees in the random forest?"
   ]
  },
  {
   "cell_type": "code",
   "execution_count": null,
   "metadata": {
    "collapsed": false
   },
   "outputs": [],
   "source": []
  },
  {
   "cell_type": "code",
   "execution_count": 62,
   "metadata": {
    "collapsed": false
   },
   "outputs": [
    {
     "name": "stdout",
     "output_type": "stream",
     "text": [
      "Accuracy of current model: 0.588\n",
      "Accuracy using best param: 0.634\n"
     ]
    }
   ],
   "source": [
    "# Get improvement\n",
    "print(\"Accuracy of current model: %0.3f\" % rf.score(X_test, y_test))\n",
    "print(\"Accuracy using best param: %0.3f\" % gs.best_score_)"
   ]
  },
  {
   "cell_type": "code",
   "execution_count": 63,
   "metadata": {
    "collapsed": false
   },
   "outputs": [
    {
     "name": "stderr",
     "output_type": "stream",
     "text": [
      "/Users/annariehle/anaconda/lib/python2.7/site-packages/sklearn/model_selection/_search.py:667: DeprecationWarning: The grid_scores_ attribute was deprecated in version 0.18 in favor of the more elaborate cv_results_ attribute. The grid_scores_ attribute will not be available from 0.20\n",
      "  DeprecationWarning)\n"
     ]
    },
    {
     "data": {
      "text/plain": [
       "mean: 0.56811, std: 0.01480, params: {'max_features': 'auto', 'n_estimators': 1, 'max_depth': None, 'min_samples_leaf': 1}"
      ]
     },
     "execution_count": 63,
     "metadata": {},
     "output_type": "execute_result"
    }
   ],
   "source": [
    "# Observe one set of parameters\n",
    "gs.grid_scores_[0]"
   ]
  },
  {
   "cell_type": "markdown",
   "metadata": {},
   "source": [
    "What does this mean? Remember, you did a 5 folds cross validation\n",
    "* The mean accuracy of the is...\n",
    "* The standard deviation of the accuracy scores of the is...\n",
    "* The max depth is...\n",
    "* The minimum number of samples in each life is...\n",
    "* The number of trees in each forest is..."
   ]
  },
  {
   "cell_type": "code",
   "execution_count": 64,
   "metadata": {
    "collapsed": false
   },
   "outputs": [
    {
     "name": "stderr",
     "output_type": "stream",
     "text": [
      "/Users/annariehle/anaconda/lib/python2.7/site-packages/sklearn/model_selection/_search.py:667: DeprecationWarning: The grid_scores_ attribute was deprecated in version 0.18 in favor of the more elaborate cv_results_ attribute. The grid_scores_ attribute will not be available from 0.20\n",
      "  DeprecationWarning)\n"
     ]
    },
    {
     "data": {
      "text/plain": [
       "[<matplotlib.lines.Line2D at 0x113a307d0>]"
      ]
     },
     "execution_count": 64,
     "metadata": {},
     "output_type": "execute_result"
    },
    {
     "data": {
      "image/png": "[encoded data removed]",
      "text/plain": [
       "<matplotlib.figure.Figure at 0x112892150>"
      ]
     },
     "metadata": {},
     "output_type": "display_data"
    }
   ],
   "source": [
    "# Plot scores\n",
    "#gs.grid_scores_\n",
    "plt.plot([s[1] for s in gs.grid_scores_])"
   ]
  },
  {
   "cell_type": "code",
   "execution_count": 65,
   "metadata": {
    "collapsed": false
   },
   "outputs": [
    {
     "data": {
      "text/plain": [
       "RandomForestClassifier(bootstrap=True, class_weight=None, criterion='gini',\n",
       "            max_depth=7, max_features='auto', max_leaf_nodes=None,\n",
       "            min_impurity_split=1e-07, min_samples_leaf=10,\n",
       "            min_samples_split=2, min_weight_fraction_leaf=0.0,\n",
       "            n_estimators=30, n_jobs=1, oob_score=False, random_state=None,\n",
       "            verbose=0, warm_start=False)"
      ]
     },
     "execution_count": 65,
     "metadata": {},
     "output_type": "execute_result"
    }
   ],
   "source": [
    "rf = gs.best_estimator_\n",
    "rf"
   ]
  },
  {
   "cell_type": "code",
   "execution_count": 66,
   "metadata": {
    "collapsed": false
   },
   "outputs": [
    {
     "name": "stdout",
     "output_type": "stream",
     "text": [
      "0.625383828045\n"
     ]
    }
   ],
   "source": [
    "rf.fit(X_train, y_train)\n",
    "print(rf.score(X_test, y_test))"
   ]
  },
  {
   "cell_type": "code",
   "execution_count": 67,
   "metadata": {
    "collapsed": false,
    "scrolled": true
   },
   "outputs": [
    {
     "data": {
      "text/plain": [
       "<matplotlib.axes._subplots.AxesSubplot at 0x113feb410>"
      ]
     },
     "execution_count": 67,
     "metadata": {},
     "output_type": "execute_result"
    },
    {
     "data": {
      "image/png": "[encoded data removed]",
      "text/plain": [
       "<matplotlib.figure.Figure at 0x113a3ea90>"
      ]
     },
     "metadata": {},
     "output_type": "display_data"
    }
   ],
   "source": [
    "# Examine Feature importances\n",
    "features = X.columns\n",
    "feature_importances = rf.feature_importances_\n",
    "\n",
    "features_df = pd.DataFrame({'Features': features, 'Importance Score': feature_importances})\n",
    "features_df.sort_values('Importance Score', inplace=True, ascending=False)\n",
    "\n",
    "sns.barplot(y='Features', x='Importance Score', data=features_df)"
   ]
  },
  {
   "cell_type": "code",
   "execution_count": 68,
   "metadata": {
    "collapsed": true
   },
   "outputs": [],
   "source": [
    "# Function to combine dummy features importances\n",
    "def combine_dummies(dummy_prefixes):\n",
    "    for p in dummy_prefixes:\n",
    "        sub_keys = filter(lambda x: x.startswith(p), feature_dict)\n",
    "        sub_keys_sum = sum([feature_dict[x] for x in sub_keys])\n",
    "        for k in sub_keys: feature_dict.pop(k)\n",
    "        feature_dict[p] = sub_keys_sum\n",
    "    return feature_dict"
   ]
  },
  {
   "cell_type": "code",
   "execution_count": 69,
   "metadata": {
    "collapsed": false
   },
   "outputs": [
    {
     "data": {
      "text/plain": [
       "<matplotlib.axes._subplots.AxesSubplot at 0x117bbd250>"
      ]
     },
     "execution_count": 69,
     "metadata": {},
     "output_type": "execute_result"
    },
    {
     "data": {
      "image/png": "[encoded data removed]",
      "text/plain": [
       "<matplotlib.figure.Figure at 0x117bb0a90>"
      ]
     },
     "metadata": {},
     "output_type": "display_data"
    }
   ],
   "source": [
    "# Plot importances with dummy features combined\n",
    "feature_names = X.columns\n",
    "feature_importances = rf.feature_importances_\n",
    "feature_dummy_prefixes = ['alchemy_cat_']\n",
    "\n",
    "feature_dict = dict(zip(feature_names, feature_importances))\n",
    "feature_dict = combine_dummies(feature_dummy_prefixes)\n",
    "\n",
    "features_df = pd.DataFrame(list(feature_dict.items()), columns=['Features', 'Importance Score'])\n",
    "features_df.sort_values('Importance Score', inplace=True, ascending=False)\n",
    "\n",
    "#features_df['Importance Score'].sum()\n",
    "sns.barplot(y='Features', x='Importance Score', data=features_df)"
   ]
  },
  {
   "cell_type": "code",
   "execution_count": null,
   "metadata": {
    "collapsed": true
   },
   "outputs": [],
   "source": []
  },
  {
   "cell_type": "markdown",
   "metadata": {},
   "source": [
    "## Mini-Lab - Partner-Up\n",
    "\n",
    "#### Let's continue modeling the StumpleUpon data!\n",
    "\n",
    "(1) Split up the remaining features and do some EDA. What other features are correlated with label?\n",
    "* Since there are a lot of numerical fields, try engineering the features as opposed to just using the raw data (try binning).\n",
    "* Think about other generalizations you can pull out from the boilerplate column (what phrases do you think attracts people to go to a site more than once? hhat about the URL could you pull out?)"
   ]
  },
  {
   "cell_type": "code",
   "execution_count": 80,
   "metadata": {
    "collapsed": false
   },
   "outputs": [
    {
     "data": {
      "text/html": [
       "<div>\n",
       "<table border=\"1\" class=\"dataframe\">\n",
       "  <thead>\n",
       "    <tr style=\"text-align: right;\">\n",
       "      <th></th>\n",
       "      <th>urlid</th>\n",
       "      <th>avglinksize</th>\n",
       "      <th>commonlinkratio_1</th>\n",
       "      <th>commonlinkratio_2</th>\n",
       "      <th>commonlinkratio_3</th>\n",
       "      <th>commonlinkratio_4</th>\n",
       "      <th>compression_ratio</th>\n",
       "      <th>embed_ratio</th>\n",
       "      <th>framebased</th>\n",
       "      <th>frameTagRatio</th>\n",
       "      <th>...</th>\n",
       "      <th>html_ratio</th>\n",
       "      <th>image_ratio</th>\n",
       "      <th>lengthyLinkDomain</th>\n",
       "      <th>linkwordscore</th>\n",
       "      <th>non_markup_alphanum_characters</th>\n",
       "      <th>numberOfLinks</th>\n",
       "      <th>numwords_in_url</th>\n",
       "      <th>parametrizedLinkRatio</th>\n",
       "      <th>spelling_errors_ratio</th>\n",
       "      <th>label</th>\n",
       "    </tr>\n",
       "  </thead>\n",
       "  <tbody>\n",
       "    <tr>\n",
       "      <th>label</th>\n",
       "      <td>0.013450</td>\n",
       "      <td>0.006172</td>\n",
       "      <td>0.083364</td>\n",
       "      <td>0.083488</td>\n",
       "      <td>0.105964</td>\n",
       "      <td>0.080464</td>\n",
       "      <td>0.059737</td>\n",
       "      <td>0.039536</td>\n",
       "      <td>NaN</td>\n",
       "      <td>0.187762</td>\n",
       "      <td>...</td>\n",
       "      <td>0.051149</td>\n",
       "      <td>0.017266</td>\n",
       "      <td>0.032824</td>\n",
       "      <td>0.173800</td>\n",
       "      <td>0.097580</td>\n",
       "      <td>0.080187</td>\n",
       "      <td>0.024823</td>\n",
       "      <td>0.010668</td>\n",
       "      <td>0.058578</td>\n",
       "      <td>1.000000</td>\n",
       "    </tr>\n",
       "    <tr>\n",
       "      <th>frameTagRatio</th>\n",
       "      <td>0.010065</td>\n",
       "      <td>0.049270</td>\n",
       "      <td>0.294860</td>\n",
       "      <td>0.259222</td>\n",
       "      <td>0.218559</td>\n",
       "      <td>0.178064</td>\n",
       "      <td>0.159335</td>\n",
       "      <td>0.130753</td>\n",
       "      <td>NaN</td>\n",
       "      <td>1.000000</td>\n",
       "      <td>...</td>\n",
       "      <td>0.384937</td>\n",
       "      <td>0.088847</td>\n",
       "      <td>0.196673</td>\n",
       "      <td>0.158874</td>\n",
       "      <td>0.303682</td>\n",
       "      <td>0.362491</td>\n",
       "      <td>0.049330</td>\n",
       "      <td>0.094557</td>\n",
       "      <td>0.033663</td>\n",
       "      <td>0.187762</td>\n",
       "    </tr>\n",
       "    <tr>\n",
       "      <th>linkwordscore</th>\n",
       "      <td>0.013668</td>\n",
       "      <td>0.122550</td>\n",
       "      <td>0.257200</td>\n",
       "      <td>0.257594</td>\n",
       "      <td>0.109654</td>\n",
       "      <td>0.059223</td>\n",
       "      <td>0.146470</td>\n",
       "      <td>0.108476</td>\n",
       "      <td>NaN</td>\n",
       "      <td>0.158874</td>\n",
       "      <td>...</td>\n",
       "      <td>0.141363</td>\n",
       "      <td>0.051436</td>\n",
       "      <td>0.130844</td>\n",
       "      <td>1.000000</td>\n",
       "      <td>0.379487</td>\n",
       "      <td>0.171880</td>\n",
       "      <td>0.011236</td>\n",
       "      <td>0.000052</td>\n",
       "      <td>0.025707</td>\n",
       "      <td>0.173800</td>\n",
       "    </tr>\n",
       "    <tr>\n",
       "      <th>commonlinkratio_3</th>\n",
       "      <td>0.005285</td>\n",
       "      <td>0.174554</td>\n",
       "      <td>0.560584</td>\n",
       "      <td>0.758330</td>\n",
       "      <td>1.000000</td>\n",
       "      <td>0.850604</td>\n",
       "      <td>0.016188</td>\n",
       "      <td>0.007578</td>\n",
       "      <td>NaN</td>\n",
       "      <td>0.218559</td>\n",
       "      <td>...</td>\n",
       "      <td>0.133370</td>\n",
       "      <td>0.050357</td>\n",
       "      <td>0.363159</td>\n",
       "      <td>0.109654</td>\n",
       "      <td>0.264022</td>\n",
       "      <td>0.283924</td>\n",
       "      <td>0.049203</td>\n",
       "      <td>0.008652</td>\n",
       "      <td>0.008599</td>\n",
       "      <td>0.105964</td>\n",
       "    </tr>\n",
       "    <tr>\n",
       "      <th>non_markup_alphanum_characters</th>\n",
       "      <td>0.016732</td>\n",
       "      <td>0.010982</td>\n",
       "      <td>0.193914</td>\n",
       "      <td>0.177785</td>\n",
       "      <td>0.264022</td>\n",
       "      <td>0.162883</td>\n",
       "      <td>0.064163</td>\n",
       "      <td>0.046484</td>\n",
       "      <td>NaN</td>\n",
       "      <td>0.303682</td>\n",
       "      <td>...</td>\n",
       "      <td>0.136550</td>\n",
       "      <td>0.026655</td>\n",
       "      <td>0.203278</td>\n",
       "      <td>0.379487</td>\n",
       "      <td>1.000000</td>\n",
       "      <td>0.375584</td>\n",
       "      <td>0.076632</td>\n",
       "      <td>0.012631</td>\n",
       "      <td>0.010207</td>\n",
       "      <td>0.097580</td>\n",
       "    </tr>\n",
       "    <tr>\n",
       "      <th>commonlinkratio_2</th>\n",
       "      <td>0.008407</td>\n",
       "      <td>0.161769</td>\n",
       "      <td>0.808047</td>\n",
       "      <td>1.000000</td>\n",
       "      <td>0.758330</td>\n",
       "      <td>0.555148</td>\n",
       "      <td>0.032460</td>\n",
       "      <td>0.019387</td>\n",
       "      <td>NaN</td>\n",
       "      <td>0.259222</td>\n",
       "      <td>...</td>\n",
       "      <td>0.159702</td>\n",
       "      <td>0.044663</td>\n",
       "      <td>0.398817</td>\n",
       "      <td>0.257594</td>\n",
       "      <td>0.177785</td>\n",
       "      <td>0.311492</td>\n",
       "      <td>0.096940</td>\n",
       "      <td>0.079485</td>\n",
       "      <td>0.027888</td>\n",
       "      <td>0.083488</td>\n",
       "    </tr>\n",
       "    <tr>\n",
       "      <th>commonlinkratio_1</th>\n",
       "      <td>0.002856</td>\n",
       "      <td>0.120467</td>\n",
       "      <td>1.000000</td>\n",
       "      <td>0.808047</td>\n",
       "      <td>0.560584</td>\n",
       "      <td>0.388801</td>\n",
       "      <td>0.017878</td>\n",
       "      <td>0.005280</td>\n",
       "      <td>NaN</td>\n",
       "      <td>0.294860</td>\n",
       "      <td>...</td>\n",
       "      <td>0.201501</td>\n",
       "      <td>0.064435</td>\n",
       "      <td>0.421284</td>\n",
       "      <td>0.257200</td>\n",
       "      <td>0.193914</td>\n",
       "      <td>0.317293</td>\n",
       "      <td>0.144354</td>\n",
       "      <td>0.078026</td>\n",
       "      <td>0.035019</td>\n",
       "      <td>0.083364</td>\n",
       "    </tr>\n",
       "    <tr>\n",
       "      <th>commonlinkratio_4</th>\n",
       "      <td>0.009573</td>\n",
       "      <td>0.134527</td>\n",
       "      <td>0.388801</td>\n",
       "      <td>0.555148</td>\n",
       "      <td>0.850604</td>\n",
       "      <td>1.000000</td>\n",
       "      <td>0.020415</td>\n",
       "      <td>0.005473</td>\n",
       "      <td>NaN</td>\n",
       "      <td>0.178064</td>\n",
       "      <td>...</td>\n",
       "      <td>0.136561</td>\n",
       "      <td>0.038071</td>\n",
       "      <td>0.287159</td>\n",
       "      <td>0.059223</td>\n",
       "      <td>0.162883</td>\n",
       "      <td>0.233898</td>\n",
       "      <td>0.026384</td>\n",
       "      <td>0.036387</td>\n",
       "      <td>0.013507</td>\n",
       "      <td>0.080464</td>\n",
       "    </tr>\n",
       "    <tr>\n",
       "      <th>numberOfLinks</th>\n",
       "      <td>0.002019</td>\n",
       "      <td>0.000360</td>\n",
       "      <td>0.317293</td>\n",
       "      <td>0.311492</td>\n",
       "      <td>0.283924</td>\n",
       "      <td>0.233898</td>\n",
       "      <td>0.055388</td>\n",
       "      <td>0.042942</td>\n",
       "      <td>NaN</td>\n",
       "      <td>0.362491</td>\n",
       "      <td>...</td>\n",
       "      <td>0.455636</td>\n",
       "      <td>0.091977</td>\n",
       "      <td>0.307005</td>\n",
       "      <td>0.171880</td>\n",
       "      <td>0.375584</td>\n",
       "      <td>1.000000</td>\n",
       "      <td>0.068791</td>\n",
       "      <td>0.136482</td>\n",
       "      <td>0.001343</td>\n",
       "      <td>0.080187</td>\n",
       "    </tr>\n",
       "    <tr>\n",
       "      <th>compression_ratio</th>\n",
       "      <td>0.007343</td>\n",
       "      <td>0.003578</td>\n",
       "      <td>0.017878</td>\n",
       "      <td>0.032460</td>\n",
       "      <td>0.016188</td>\n",
       "      <td>0.020415</td>\n",
       "      <td>1.000000</td>\n",
       "      <td>0.889345</td>\n",
       "      <td>NaN</td>\n",
       "      <td>0.159335</td>\n",
       "      <td>...</td>\n",
       "      <td>0.106335</td>\n",
       "      <td>0.188976</td>\n",
       "      <td>0.090325</td>\n",
       "      <td>0.146470</td>\n",
       "      <td>0.064163</td>\n",
       "      <td>0.055388</td>\n",
       "      <td>0.042614</td>\n",
       "      <td>0.033772</td>\n",
       "      <td>0.364122</td>\n",
       "      <td>0.059737</td>\n",
       "    </tr>\n",
       "    <tr>\n",
       "      <th>spelling_errors_ratio</th>\n",
       "      <td>0.002292</td>\n",
       "      <td>0.035393</td>\n",
       "      <td>0.035019</td>\n",
       "      <td>0.027888</td>\n",
       "      <td>0.008599</td>\n",
       "      <td>0.013507</td>\n",
       "      <td>0.364122</td>\n",
       "      <td>0.342206</td>\n",
       "      <td>NaN</td>\n",
       "      <td>0.033663</td>\n",
       "      <td>...</td>\n",
       "      <td>0.013860</td>\n",
       "      <td>0.010975</td>\n",
       "      <td>0.031943</td>\n",
       "      <td>0.025707</td>\n",
       "      <td>0.010207</td>\n",
       "      <td>0.001343</td>\n",
       "      <td>0.107631</td>\n",
       "      <td>0.007397</td>\n",
       "      <td>1.000000</td>\n",
       "      <td>0.058578</td>\n",
       "    </tr>\n",
       "    <tr>\n",
       "      <th>html_ratio</th>\n",
       "      <td>0.016989</td>\n",
       "      <td>0.018974</td>\n",
       "      <td>0.201501</td>\n",
       "      <td>0.159702</td>\n",
       "      <td>0.133370</td>\n",
       "      <td>0.136561</td>\n",
       "      <td>0.106335</td>\n",
       "      <td>0.090938</td>\n",
       "      <td>NaN</td>\n",
       "      <td>0.384937</td>\n",
       "      <td>...</td>\n",
       "      <td>1.000000</td>\n",
       "      <td>0.172924</td>\n",
       "      <td>0.215809</td>\n",
       "      <td>0.141363</td>\n",
       "      <td>0.136550</td>\n",
       "      <td>0.455636</td>\n",
       "      <td>0.042001</td>\n",
       "      <td>0.183350</td>\n",
       "      <td>0.013860</td>\n",
       "      <td>0.051149</td>\n",
       "    </tr>\n",
       "    <tr>\n",
       "      <th>embed_ratio</th>\n",
       "      <td>0.013340</td>\n",
       "      <td>0.005254</td>\n",
       "      <td>0.005280</td>\n",
       "      <td>0.019387</td>\n",
       "      <td>0.007578</td>\n",
       "      <td>0.005473</td>\n",
       "      <td>0.889345</td>\n",
       "      <td>1.000000</td>\n",
       "      <td>NaN</td>\n",
       "      <td>0.130753</td>\n",
       "      <td>...</td>\n",
       "      <td>0.090938</td>\n",
       "      <td>0.183808</td>\n",
       "      <td>0.075322</td>\n",
       "      <td>0.108476</td>\n",
       "      <td>0.046484</td>\n",
       "      <td>0.042942</td>\n",
       "      <td>0.043343</td>\n",
       "      <td>0.037361</td>\n",
       "      <td>0.342206</td>\n",
       "      <td>0.039536</td>\n",
       "    </tr>\n",
       "    <tr>\n",
       "      <th>lengthyLinkDomain</th>\n",
       "      <td>0.007780</td>\n",
       "      <td>0.020852</td>\n",
       "      <td>0.421284</td>\n",
       "      <td>0.398817</td>\n",
       "      <td>0.363159</td>\n",
       "      <td>0.287159</td>\n",
       "      <td>0.090325</td>\n",
       "      <td>0.075322</td>\n",
       "      <td>NaN</td>\n",
       "      <td>0.196673</td>\n",
       "      <td>...</td>\n",
       "      <td>0.215809</td>\n",
       "      <td>0.047652</td>\n",
       "      <td>1.000000</td>\n",
       "      <td>0.130844</td>\n",
       "      <td>0.203278</td>\n",
       "      <td>0.307005</td>\n",
       "      <td>0.229114</td>\n",
       "      <td>0.034653</td>\n",
       "      <td>0.031943</td>\n",
       "      <td>0.032824</td>\n",
       "    </tr>\n",
       "    <tr>\n",
       "      <th>numwords_in_url</th>\n",
       "      <td>0.017342</td>\n",
       "      <td>0.033890</td>\n",
       "      <td>0.144354</td>\n",
       "      <td>0.096940</td>\n",
       "      <td>0.049203</td>\n",
       "      <td>0.026384</td>\n",
       "      <td>0.042614</td>\n",
       "      <td>0.043343</td>\n",
       "      <td>NaN</td>\n",
       "      <td>0.049330</td>\n",
       "      <td>...</td>\n",
       "      <td>0.042001</td>\n",
       "      <td>0.037265</td>\n",
       "      <td>0.229114</td>\n",
       "      <td>0.011236</td>\n",
       "      <td>0.076632</td>\n",
       "      <td>0.068791</td>\n",
       "      <td>1.000000</td>\n",
       "      <td>0.095363</td>\n",
       "      <td>0.107631</td>\n",
       "      <td>0.024823</td>\n",
       "    </tr>\n",
       "    <tr>\n",
       "      <th>image_ratio</th>\n",
       "      <td>0.000590</td>\n",
       "      <td>0.003002</td>\n",
       "      <td>0.064435</td>\n",
       "      <td>0.044663</td>\n",
       "      <td>0.050357</td>\n",
       "      <td>0.038071</td>\n",
       "      <td>0.188976</td>\n",
       "      <td>0.183808</td>\n",
       "      <td>NaN</td>\n",
       "      <td>0.088847</td>\n",
       "      <td>...</td>\n",
       "      <td>0.172924</td>\n",
       "      <td>1.000000</td>\n",
       "      <td>0.047652</td>\n",
       "      <td>0.051436</td>\n",
       "      <td>0.026655</td>\n",
       "      <td>0.091977</td>\n",
       "      <td>0.037265</td>\n",
       "      <td>0.118549</td>\n",
       "      <td>0.010975</td>\n",
       "      <td>0.017266</td>\n",
       "    </tr>\n",
       "    <tr>\n",
       "      <th>urlid</th>\n",
       "      <td>1.000000</td>\n",
       "      <td>0.011162</td>\n",
       "      <td>0.002856</td>\n",
       "      <td>0.008407</td>\n",
       "      <td>0.005285</td>\n",
       "      <td>0.009573</td>\n",
       "      <td>0.007343</td>\n",
       "      <td>0.013340</td>\n",
       "      <td>NaN</td>\n",
       "      <td>0.010065</td>\n",
       "      <td>...</td>\n",
       "      <td>0.016989</td>\n",
       "      <td>0.000590</td>\n",
       "      <td>0.007780</td>\n",
       "      <td>0.013668</td>\n",
       "      <td>0.016732</td>\n",
       "      <td>0.002019</td>\n",
       "      <td>0.017342</td>\n",
       "      <td>0.005868</td>\n",
       "      <td>0.002292</td>\n",
       "      <td>0.013450</td>\n",
       "    </tr>\n",
       "    <tr>\n",
       "      <th>parametrizedLinkRatio</th>\n",
       "      <td>0.005868</td>\n",
       "      <td>0.006089</td>\n",
       "      <td>0.078026</td>\n",
       "      <td>0.079485</td>\n",
       "      <td>0.008652</td>\n",
       "      <td>0.036387</td>\n",
       "      <td>0.033772</td>\n",
       "      <td>0.037361</td>\n",
       "      <td>NaN</td>\n",
       "      <td>0.094557</td>\n",
       "      <td>...</td>\n",
       "      <td>0.183350</td>\n",
       "      <td>0.118549</td>\n",
       "      <td>0.034653</td>\n",
       "      <td>0.000052</td>\n",
       "      <td>0.012631</td>\n",
       "      <td>0.136482</td>\n",
       "      <td>0.095363</td>\n",
       "      <td>1.000000</td>\n",
       "      <td>0.007397</td>\n",
       "      <td>0.010668</td>\n",
       "    </tr>\n",
       "    <tr>\n",
       "      <th>avglinksize</th>\n",
       "      <td>0.011162</td>\n",
       "      <td>1.000000</td>\n",
       "      <td>0.120467</td>\n",
       "      <td>0.161769</td>\n",
       "      <td>0.174554</td>\n",
       "      <td>0.134527</td>\n",
       "      <td>0.003578</td>\n",
       "      <td>0.005254</td>\n",
       "      <td>NaN</td>\n",
       "      <td>0.049270</td>\n",
       "      <td>...</td>\n",
       "      <td>0.018974</td>\n",
       "      <td>0.003002</td>\n",
       "      <td>0.020852</td>\n",
       "      <td>0.122550</td>\n",
       "      <td>0.010982</td>\n",
       "      <td>0.000360</td>\n",
       "      <td>0.033890</td>\n",
       "      <td>0.006089</td>\n",
       "      <td>0.035393</td>\n",
       "      <td>0.006172</td>\n",
       "    </tr>\n",
       "    <tr>\n",
       "      <th>hasDomainLink</th>\n",
       "      <td>0.005802</td>\n",
       "      <td>0.002046</td>\n",
       "      <td>0.006790</td>\n",
       "      <td>0.000263</td>\n",
       "      <td>0.031097</td>\n",
       "      <td>0.052519</td>\n",
       "      <td>0.027657</td>\n",
       "      <td>0.026473</td>\n",
       "      <td>NaN</td>\n",
       "      <td>0.010193</td>\n",
       "      <td>...</td>\n",
       "      <td>0.009665</td>\n",
       "      <td>0.003890</td>\n",
       "      <td>0.008579</td>\n",
       "      <td>0.022583</td>\n",
       "      <td>0.017361</td>\n",
       "      <td>0.013678</td>\n",
       "      <td>0.058085</td>\n",
       "      <td>0.051330</td>\n",
       "      <td>0.008718</td>\n",
       "      <td>0.004863</td>\n",
       "    </tr>\n",
       "    <tr>\n",
       "      <th>framebased</th>\n",
       "      <td>NaN</td>\n",
       "      <td>NaN</td>\n",
       "      <td>NaN</td>\n",
       "      <td>NaN</td>\n",
       "      <td>NaN</td>\n",
       "      <td>NaN</td>\n",
       "      <td>NaN</td>\n",
       "      <td>NaN</td>\n",
       "      <td>NaN</td>\n",
       "      <td>NaN</td>\n",
       "      <td>...</td>\n",
       "      <td>NaN</td>\n",
       "      <td>NaN</td>\n",
       "      <td>NaN</td>\n",
       "      <td>NaN</td>\n",
       "      <td>NaN</td>\n",
       "      <td>NaN</td>\n",
       "      <td>NaN</td>\n",
       "      <td>NaN</td>\n",
       "      <td>NaN</td>\n",
       "      <td>NaN</td>\n",
       "    </tr>\n",
       "  </tbody>\n",
       "</table>\n",
       "<p>21 rows × 21 columns</p>\n",
       "</div>"
      ],
      "text/plain": [
       "                                   urlid  avglinksize  commonlinkratio_1  \\\n",
       "label                           0.013450     0.006172           0.083364   \n",
       "frameTagRatio                   0.010065     0.049270           0.294860   \n",
       "linkwordscore                   0.013668     0.122550           0.257200   \n",
       "commonlinkratio_3               0.005285     0.174554           0.560584   \n",
       "non_markup_alphanum_characters  0.016732     0.010982           0.193914   \n",
       "commonlinkratio_2               0.008407     0.161769           0.808047   \n",
       "commonlinkratio_1               0.002856     0.120467           1.000000   \n",
       "commonlinkratio_4               0.009573     0.134527           0.388801   \n",
       "numberOfLinks                   0.002019     0.000360           0.317293   \n",
       "compression_ratio               0.007343     0.003578           0.017878   \n",
       "spelling_errors_ratio           0.002292     0.035393           0.035019   \n",
       "html_ratio                      0.016989     0.018974           0.201501   \n",
       "embed_ratio                     0.013340     0.005254           0.005280   \n",
       "lengthyLinkDomain               0.007780     0.020852           0.421284   \n",
       "numwords_in_url                 0.017342     0.033890           0.144354   \n",
       "image_ratio                     0.000590     0.003002           0.064435   \n",
       "urlid                           1.000000     0.011162           0.002856   \n",
       "parametrizedLinkRatio           0.005868     0.006089           0.078026   \n",
       "avglinksize                     0.011162     1.000000           0.120467   \n",
       "hasDomainLink                   0.005802     0.002046           0.006790   \n",
       "framebased                           NaN          NaN                NaN   \n",
       "\n",
       "                                commonlinkratio_2  commonlinkratio_3  \\\n",
       "label                                    0.083488           0.105964   \n",
       "frameTagRatio                            0.259222           0.218559   \n",
       "linkwordscore                            0.257594           0.109654   \n",
       "commonlinkratio_3                        0.758330           1.000000   \n",
       "non_markup_alphanum_characters           0.177785           0.264022   \n",
       "commonlinkratio_2                        1.000000           0.758330   \n",
       "commonlinkratio_1                        0.808047           0.560584   \n",
       "commonlinkratio_4                        0.555148           0.850604   \n",
       "numberOfLinks                            0.311492           0.283924   \n",
       "compression_ratio                        0.032460           0.016188   \n",
       "spelling_errors_ratio                    0.027888           0.008599   \n",
       "html_ratio                               0.159702           0.133370   \n",
       "embed_ratio                              0.019387           0.007578   \n",
       "lengthyLinkDomain                        0.398817           0.363159   \n",
       "numwords_in_url                          0.096940           0.049203   \n",
       "image_ratio                              0.044663           0.050357   \n",
       "urlid                                    0.008407           0.005285   \n",
       "parametrizedLinkRatio                    0.079485           0.008652   \n",
       "avglinksize                              0.161769           0.174554   \n",
       "hasDomainLink                            0.000263           0.031097   \n",
       "framebased                                    NaN                NaN   \n",
       "\n",
       "                                commonlinkratio_4  compression_ratio  \\\n",
       "label                                    0.080464           0.059737   \n",
       "frameTagRatio                            0.178064           0.159335   \n",
       "linkwordscore                            0.059223           0.146470   \n",
       "commonlinkratio_3                        0.850604           0.016188   \n",
       "non_markup_alphanum_characters           0.162883           0.064163   \n",
       "commonlinkratio_2                        0.555148           0.032460   \n",
       "commonlinkratio_1                        0.388801           0.017878   \n",
       "commonlinkratio_4                        1.000000           0.020415   \n",
       "numberOfLinks                            0.233898           0.055388   \n",
       "compression_ratio                        0.020415           1.000000   \n",
       "spelling_errors_ratio                    0.013507           0.364122   \n",
       "html_ratio                               0.136561           0.106335   \n",
       "embed_ratio                              0.005473           0.889345   \n",
       "lengthyLinkDomain                        0.287159           0.090325   \n",
       "numwords_in_url                          0.026384           0.042614   \n",
       "image_ratio                              0.038071           0.188976   \n",
       "urlid                                    0.009573           0.007343   \n",
       "parametrizedLinkRatio                    0.036387           0.033772   \n",
       "avglinksize                              0.134527           0.003578   \n",
       "hasDomainLink                            0.052519           0.027657   \n",
       "framebased                                    NaN                NaN   \n",
       "\n",
       "                                embed_ratio  framebased  frameTagRatio  \\\n",
       "label                              0.039536         NaN       0.187762   \n",
       "frameTagRatio                      0.130753         NaN       1.000000   \n",
       "linkwordscore                      0.108476         NaN       0.158874   \n",
       "commonlinkratio_3                  0.007578         NaN       0.218559   \n",
       "non_markup_alphanum_characters     0.046484         NaN       0.303682   \n",
       "commonlinkratio_2                  0.019387         NaN       0.259222   \n",
       "commonlinkratio_1                  0.005280         NaN       0.294860   \n",
       "commonlinkratio_4                  0.005473         NaN       0.178064   \n",
       "numberOfLinks                      0.042942         NaN       0.362491   \n",
       "compression_ratio                  0.889345         NaN       0.159335   \n",
       "spelling_errors_ratio              0.342206         NaN       0.033663   \n",
       "html_ratio                         0.090938         NaN       0.384937   \n",
       "embed_ratio                        1.000000         NaN       0.130753   \n",
       "lengthyLinkDomain                  0.075322         NaN       0.196673   \n",
       "numwords_in_url                    0.043343         NaN       0.049330   \n",
       "image_ratio                        0.183808         NaN       0.088847   \n",
       "urlid                              0.013340         NaN       0.010065   \n",
       "parametrizedLinkRatio              0.037361         NaN       0.094557   \n",
       "avglinksize                        0.005254         NaN       0.049270   \n",
       "hasDomainLink                      0.026473         NaN       0.010193   \n",
       "framebased                              NaN         NaN            NaN   \n",
       "\n",
       "                                  ...     html_ratio  image_ratio  \\\n",
       "label                             ...       0.051149     0.017266   \n",
       "frameTagRatio                     ...       0.384937     0.088847   \n",
       "linkwordscore                     ...       0.141363     0.051436   \n",
       "commonlinkratio_3                 ...       0.133370     0.050357   \n",
       "non_markup_alphanum_characters    ...       0.136550     0.026655   \n",
       "commonlinkratio_2                 ...       0.159702     0.044663   \n",
       "commonlinkratio_1                 ...       0.201501     0.064435   \n",
       "commonlinkratio_4                 ...       0.136561     0.038071   \n",
       "numberOfLinks                     ...       0.455636     0.091977   \n",
       "compression_ratio                 ...       0.106335     0.188976   \n",
       "spelling_errors_ratio             ...       0.013860     0.010975   \n",
       "html_ratio                        ...       1.000000     0.172924   \n",
       "embed_ratio                       ...       0.090938     0.183808   \n",
       "lengthyLinkDomain                 ...       0.215809     0.047652   \n",
       "numwords_in_url                   ...       0.042001     0.037265   \n",
       "image_ratio                       ...       0.172924     1.000000   \n",
       "urlid                             ...       0.016989     0.000590   \n",
       "parametrizedLinkRatio             ...       0.183350     0.118549   \n",
       "avglinksize                       ...       0.018974     0.003002   \n",
       "hasDomainLink                     ...       0.009665     0.003890   \n",
       "framebased                        ...            NaN          NaN   \n",
       "\n",
       "                                lengthyLinkDomain  linkwordscore  \\\n",
       "label                                    0.032824       0.173800   \n",
       "frameTagRatio                            0.196673       0.158874   \n",
       "linkwordscore                            0.130844       1.000000   \n",
       "commonlinkratio_3                        0.363159       0.109654   \n",
       "non_markup_alphanum_characters           0.203278       0.379487   \n",
       "commonlinkratio_2                        0.398817       0.257594   \n",
       "commonlinkratio_1                        0.421284       0.257200   \n",
       "commonlinkratio_4                        0.287159       0.059223   \n",
       "numberOfLinks                            0.307005       0.171880   \n",
       "compression_ratio                        0.090325       0.146470   \n",
       "spelling_errors_ratio                    0.031943       0.025707   \n",
       "html_ratio                               0.215809       0.141363   \n",
       "embed_ratio                              0.075322       0.108476   \n",
       "lengthyLinkDomain                        1.000000       0.130844   \n",
       "numwords_in_url                          0.229114       0.011236   \n",
       "image_ratio                              0.047652       0.051436   \n",
       "urlid                                    0.007780       0.013668   \n",
       "parametrizedLinkRatio                    0.034653       0.000052   \n",
       "avglinksize                              0.020852       0.122550   \n",
       "hasDomainLink                            0.008579       0.022583   \n",
       "framebased                                    NaN            NaN   \n",
       "\n",
       "                                non_markup_alphanum_characters  numberOfLinks  \\\n",
       "label                                                 0.097580       0.080187   \n",
       "frameTagRatio                                         0.303682       0.362491   \n",
       "linkwordscore                                         0.379487       0.171880   \n",
       "commonlinkratio_3                                     0.264022       0.283924   \n",
       "non_markup_alphanum_characters                        1.000000       0.375584   \n",
       "commonlinkratio_2                                     0.177785       0.311492   \n",
       "commonlinkratio_1                                     0.193914       0.317293   \n",
       "commonlinkratio_4                                     0.162883       0.233898   \n",
       "numberOfLinks                                         0.375584       1.000000   \n",
       "compression_ratio                                     0.064163       0.055388   \n",
       "spelling_errors_ratio                                 0.010207       0.001343   \n",
       "html_ratio                                            0.136550       0.455636   \n",
       "embed_ratio                                           0.046484       0.042942   \n",
       "lengthyLinkDomain                                     0.203278       0.307005   \n",
       "numwords_in_url                                       0.076632       0.068791   \n",
       "image_ratio                                           0.026655       0.091977   \n",
       "urlid                                                 0.016732       0.002019   \n",
       "parametrizedLinkRatio                                 0.012631       0.136482   \n",
       "avglinksize                                           0.010982       0.000360   \n",
       "hasDomainLink                                         0.017361       0.013678   \n",
       "framebased                                                 NaN            NaN   \n",
       "\n",
       "                                numwords_in_url  parametrizedLinkRatio  \\\n",
       "label                                  0.024823               0.010668   \n",
       "frameTagRatio                          0.049330               0.094557   \n",
       "linkwordscore                          0.011236               0.000052   \n",
       "commonlinkratio_3                      0.049203               0.008652   \n",
       "non_markup_alphanum_characters         0.076632               0.012631   \n",
       "commonlinkratio_2                      0.096940               0.079485   \n",
       "commonlinkratio_1                      0.144354               0.078026   \n",
       "commonlinkratio_4                      0.026384               0.036387   \n",
       "numberOfLinks                          0.068791               0.136482   \n",
       "compression_ratio                      0.042614               0.033772   \n",
       "spelling_errors_ratio                  0.107631               0.007397   \n",
       "html_ratio                             0.042001               0.183350   \n",
       "embed_ratio                            0.043343               0.037361   \n",
       "lengthyLinkDomain                      0.229114               0.034653   \n",
       "numwords_in_url                        1.000000               0.095363   \n",
       "image_ratio                            0.037265               0.118549   \n",
       "urlid                                  0.017342               0.005868   \n",
       "parametrizedLinkRatio                  0.095363               1.000000   \n",
       "avglinksize                            0.033890               0.006089   \n",
       "hasDomainLink                          0.058085               0.051330   \n",
       "framebased                                  NaN                    NaN   \n",
       "\n",
       "                                spelling_errors_ratio     label  \n",
       "label                                        0.058578  1.000000  \n",
       "frameTagRatio                                0.033663  0.187762  \n",
       "linkwordscore                                0.025707  0.173800  \n",
       "commonlinkratio_3                            0.008599  0.105964  \n",
       "non_markup_alphanum_characters               0.010207  0.097580  \n",
       "commonlinkratio_2                            0.027888  0.083488  \n",
       "commonlinkratio_1                            0.035019  0.083364  \n",
       "commonlinkratio_4                            0.013507  0.080464  \n",
       "numberOfLinks                                0.001343  0.080187  \n",
       "compression_ratio                            0.364122  0.059737  \n",
       "spelling_errors_ratio                        1.000000  0.058578  \n",
       "html_ratio                                   0.013860  0.051149  \n",
       "embed_ratio                                  0.342206  0.039536  \n",
       "lengthyLinkDomain                            0.031943  0.032824  \n",
       "numwords_in_url                              0.107631  0.024823  \n",
       "image_ratio                                  0.010975  0.017266  \n",
       "urlid                                        0.002292  0.013450  \n",
       "parametrizedLinkRatio                        0.007397  0.010668  \n",
       "avglinksize                                  0.035393  0.006172  \n",
       "hasDomainLink                                0.008718  0.004863  \n",
       "framebased                                        NaN       NaN  \n",
       "\n",
       "[21 rows x 21 columns]"
      ]
     },
     "execution_count": 80,
     "metadata": {},
     "output_type": "execute_result"
    }
   ],
   "source": [
    "df.corr().abs().sort_values('label', ascending=False)"
   ]
  },
  {
   "cell_type": "markdown",
   "metadata": {
    "collapsed": false
   },
   "source": [
    "(2) Pick up to six additional variables total to add to the model (you can include/exclude the variables from the previous example)"
   ]
  },
  {
   "cell_type": "code",
   "execution_count": 81,
   "metadata": {
    "collapsed": true
   },
   "outputs": [],
   "source": [
    "features = ['frameTagRatio','linkwordscore','non_markup_alphanum_characters', 'numberOfLinks', 'compression_ratio', 'spelling_errors_ratio']\n",
    "X = df[features]\n",
    "y = df.label"
   ]
  },
  {
   "cell_type": "markdown",
   "metadata": {
    "collapsed": true
   },
   "source": [
    "(3) Create a Decision Tree \n",
    "* Remember to do cross-validation to see if your model is overfit\n",
    "* Try pruning the tree by selecting the max number of splits and minimum number of samples required in each leaf\n"
   ]
  },
  {
   "cell_type": "code",
   "execution_count": 82,
   "metadata": {
    "collapsed": false
   },
   "outputs": [
    {
     "name": "stdout",
     "output_type": "stream",
     "text": [
      "Accuracy: 0.566\n",
      "ROC AUC: 0.565\n"
     ]
    }
   ],
   "source": [
    "X_train, X_test, y_train, y_test = train_test_split(X, y, test_size=0.4, random_state=42)\n",
    "dt = DecisionTreeClassifier()\n",
    "dt.fit(X_train, y_train)\n",
    "\n",
    "# Evaluate accuracy of model on test set\n",
    "print(\"Accuracy: %0.3f\" % dt.score(X_test, y_test))\n",
    "\n",
    "# Evaluate ROC AUC score of model on test set\n",
    "print('ROC AUC: %0.3f' % roc_auc_score(y_test, dt.predict_proba(X_test)[:,1]))"
   ]
  },
  {
   "cell_type": "markdown",
   "metadata": {},
   "source": [
    "(4) Repeat step 3 but with a Random Forest\n"
   ]
  },
  {
   "cell_type": "code",
   "execution_count": 83,
   "metadata": {
    "collapsed": false
   },
   "outputs": [
    {
     "name": "stdout",
     "output_type": "stream",
     "text": [
      "Accuracy: 0.982\n",
      "Accuracy: 0.604\n"
     ]
    }
   ],
   "source": [
    "rf = RandomForestClassifier()\n",
    "rf.fit(X_train, y_train)\n",
    "\n",
    "# Evaluate model on train set\n",
    "print(\"Accuracy: %0.3f\" % rf.score(X_train, y_train))\n",
    "\n",
    "# Evaluate model on test set\n",
    "print(\"Accuracy: %0.3f\" % rf.score(X_test, y_test))"
   ]
  },
  {
   "cell_type": "markdown",
   "metadata": {},
   "source": [
    "(5) Run a Grid Search with 3 different values for each of the following parameters:\n",
    "* The number of trees in the forest (n_estimators)\n",
    "* The minimum number of samples in each leaf (min_samples_leaf)\n",
    "* The maximum number of splits (max_depth)\n",
    "* The percentage of features to look at during each of the splits (max_features)"
   ]
  },
  {
   "cell_type": "code",
   "execution_count": 85,
   "metadata": {
    "collapsed": false
   },
   "outputs": [
    {
     "name": "stdout",
     "output_type": "stream",
     "text": [
      "Fitting 5 folds for each of 240 candidates, totalling 1200 fits\n"
     ]
    },
    {
     "name": "stderr",
     "output_type": "stream",
     "text": [
      "[Parallel(n_jobs=-1)]: Done 144 tasks      | elapsed:    5.3s\n",
      "[Parallel(n_jobs=-1)]: Done 744 tasks      | elapsed:   31.8s\n",
      "[Parallel(n_jobs=-1)]: Done 1200 out of 1200 | elapsed:   55.3s finished\n"
     ]
    },
    {
     "data": {
      "text/plain": [
       "GridSearchCV(cv=5, error_score='raise',\n",
       "       estimator=RandomForestClassifier(bootstrap=True, class_weight=None, criterion='gini',\n",
       "            max_depth=None, max_features='auto', max_leaf_nodes=None,\n",
       "            min_impurity_split=1e-07, min_samples_leaf=1,\n",
       "            min_samples_split=2, min_weight_fraction_leaf=0.0,\n",
       "            n_estimators=10, n_jobs=1, oob_score=False, random_state=None,\n",
       "            verbose=0, warm_start=False),\n",
       "       fit_params={}, iid=True, n_jobs=-1,\n",
       "       param_grid={'n_estimators': [1, 5, 10, 15], 'max_features': ['auto', 0.25, 0.5, 0.75, None], 'max_depth': [3, 5, 7, 9], 'min_samples_leaf': [1, 50, 100]},\n",
       "       pre_dispatch='2*n_jobs', refit=True, return_train_score=True,\n",
       "       scoring=None, verbose=True)"
      ]
     },
     "execution_count": 85,
     "metadata": {},
     "output_type": "execute_result"
    }
   ],
   "source": [
    "# Set list of values to grid search over\n",
    "\n",
    "# The number of trees in the rf\n",
    "n = [1, 5, 10, 15]\n",
    "\n",
    "# The min number of observations in each leaf\n",
    "samples = [1, 50, 100]\n",
    "\n",
    "# How many splits\n",
    "depth = [3, 5, 7, 9]\n",
    "\n",
    "# The percentage of max features to look at for each split\n",
    "# 'auto' means you don't subset the features\n",
    "features = ['auto', 0.25, 0.5, 0.75, None]\n",
    "\n",
    "params = {'n_estimators': n,\n",
    "         'min_samples_leaf':samples,\n",
    "         'max_depth':depth,\n",
    "         'max_features':features}\n",
    "\n",
    "# Do a 5 fold CV\n",
    "gs = GridSearchCV(estimator = rf, param_grid = params, n_jobs=-1, verbose = True, cv=5)\n",
    "\n",
    "gs.fit(X, y)"
   ]
  },
  {
   "cell_type": "markdown",
   "metadata": {},
   "source": [
    "What combination of parameters gave you the most accurate model?"
   ]
  },
  {
   "cell_type": "code",
   "execution_count": 86,
   "metadata": {
    "collapsed": false
   },
   "outputs": [
    {
     "name": "stderr",
     "output_type": "stream",
     "text": [
      "/Users/annariehle/anaconda/lib/python2.7/site-packages/sklearn/model_selection/_search.py:667: DeprecationWarning: The grid_scores_ attribute was deprecated in version 0.18 in favor of the more elaborate cv_results_ attribute. The grid_scores_ attribute will not be available from 0.20\n",
      "  DeprecationWarning)\n"
     ]
    },
    {
     "data": {
      "text/plain": [
       "mean: 0.60757, std: 0.01093, params: {'max_features': 'auto', 'n_estimators': 1, 'max_depth': 3, 'min_samples_leaf': 1}"
      ]
     },
     "execution_count": 86,
     "metadata": {},
     "output_type": "execute_result"
    }
   ],
   "source": [
    "gs.grid_scores_[0]"
   ]
  }
 ],
 "metadata": {
  "kernelspec": {
   "display_name": "Python 2",
   "language": "python",
   "name": "python2"
  },
  "language_info": {
   "codemirror_mode": {
    "name": "ipython",
    "version": 2
   },
   "file_extension": ".py",
   "mimetype": "text/x-python",
   "name": "python",
   "nbconvert_exporter": "python",
   "pygments_lexer": "ipython2",
   "version": "2.7.11"
  }
 },
 "nbformat": 4,
 "nbformat_minor": 2
}
